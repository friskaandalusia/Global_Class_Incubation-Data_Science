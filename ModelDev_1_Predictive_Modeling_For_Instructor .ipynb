{
 "cells": [
  {
   "cell_type": "markdown",
   "metadata": {},
   "source": [
    "# 0) Importing the right tools <font color='blue'> (5 min) </font>"
   ]
  },
  {
   "cell_type": "markdown",
   "metadata": {},
   "source": [
    "### <font color='red'>0.1) Import the necessary packages with their usual aliases: </font>\n",
    "\n",
    "- pandas as pd\n",
    "- numpy as np\n",
    "- seaborn as sns\n",
    "- matplotlib.pyplot as plt"
   ]
  },
  {
   "cell_type": "code",
   "execution_count": 1,
   "metadata": {
    "jupyter": {
     "outputs_hidden": false
    }
   },
   "outputs": [
    {
     "name": "stdout",
     "output_type": "stream",
     "text": [
      "Populating the interactive namespace from numpy and matplotlib\n"
     ]
    }
   ],
   "source": [
    "from __future__ import division\n",
    "import pandas as pd\n",
    "import numpy as np\n",
    "import seaborn as sns\n",
    "import matplotlib.pyplot as plt\n",
    "\n",
    "#### IMPORT THE USUAL PACKAGES WITH THEIR ALIASES ####\n",
    "\n",
    "import warnings\n",
    "warnings.filterwarnings('ignore')\n",
    "\n",
    "%pylab inline"
   ]
  },
  {
   "cell_type": "code",
   "execution_count": 2,
   "metadata": {},
   "outputs": [
    {
     "data": {
      "text/plain": [
       "'C:\\\\Users\\\\ExpertBook\\\\GCLASSSTUDYPROJECT'"
      ]
     },
     "execution_count": 2,
     "metadata": {},
     "output_type": "execute_result"
    }
   ],
   "source": [
    "import os\n",
    "os.getcwd()"
   ]
  },
  {
   "cell_type": "markdown",
   "metadata": {},
   "source": [
    "### <font color='red'>0.2) Import the dataset from <i>'../data/data_after_feature_engineering.csv'</i></font>"
   ]
  },
  {
   "cell_type": "code",
   "execution_count": 3,
   "metadata": {
    "jupyter": {
     "outputs_hidden": false
    }
   },
   "outputs": [],
   "source": [
    "raw_data = pd.read_csv('data_after_feature_engineering.csv')\n",
    "#### IMPORT AND READ THE CSV DATA USING pd.read_csv() #### "
   ]
  },
  {
   "cell_type": "code",
   "execution_count": 4,
   "metadata": {},
   "outputs": [
    {
     "data": {
      "text/plain": [
       "(935588, 22)"
      ]
     },
     "execution_count": 4,
     "metadata": {},
     "output_type": "execute_result"
    }
   ],
   "source": [
    "raw_data.shape"
   ]
  },
  {
   "cell_type": "markdown",
   "metadata": {},
   "source": [
    "### <font color='red'>0.3) Copy the raw_data and print samples</font>"
   ]
  },
  {
   "cell_type": "code",
   "execution_count": 5,
   "metadata": {},
   "outputs": [],
   "source": [
    "data = raw_data.copy()\n",
    "#### COPY THE RAW DATA WITH THE .copy() FUNCTION ####"
   ]
  },
  {
   "cell_type": "code",
   "execution_count": 6,
   "metadata": {
    "jupyter": {
     "outputs_hidden": false
    }
   },
   "outputs": [
    {
     "data": {
      "text/html": [
       "<div>\n",
       "<style scoped>\n",
       "    .dataframe tbody tr th:only-of-type {\n",
       "        vertical-align: middle;\n",
       "    }\n",
       "\n",
       "    .dataframe tbody tr th {\n",
       "        vertical-align: top;\n",
       "    }\n",
       "\n",
       "    .dataframe thead th {\n",
       "        text-align: right;\n",
       "    }\n",
       "</style>\n",
       "<table border=\"1\" class=\"dataframe\">\n",
       "  <thead>\n",
       "    <tr style=\"text-align: right;\">\n",
       "      <th></th>\n",
       "      <th>tripduration</th>\n",
       "      <th>starttime</th>\n",
       "      <th>stoptime</th>\n",
       "      <th>start station id</th>\n",
       "      <th>start station name</th>\n",
       "      <th>start station latitude</th>\n",
       "      <th>start station longitude</th>\n",
       "      <th>end station id</th>\n",
       "      <th>end station name</th>\n",
       "      <th>end station latitude</th>\n",
       "      <th>...</th>\n",
       "      <th>usertype</th>\n",
       "      <th>birth year</th>\n",
       "      <th>gender</th>\n",
       "      <th>start_day</th>\n",
       "      <th>is_weekend</th>\n",
       "      <th>start_moment</th>\n",
       "      <th>is_circle_trip</th>\n",
       "      <th>june_day</th>\n",
       "      <th>traveled_distance</th>\n",
       "      <th>average_speed</th>\n",
       "    </tr>\n",
       "  </thead>\n",
       "  <tbody>\n",
       "    <tr>\n",
       "      <th>163448</th>\n",
       "      <td>1888</td>\n",
       "      <td>2015-06-07 13:59:00</td>\n",
       "      <td>2015-06-07 14:30:00</td>\n",
       "      <td>335</td>\n",
       "      <td>Washington Pl &amp; Broadway</td>\n",
       "      <td>40.729039</td>\n",
       "      <td>-73.994046</td>\n",
       "      <td>388</td>\n",
       "      <td>W 26 St &amp; 10 Ave</td>\n",
       "      <td>40.749718</td>\n",
       "      <td>...</td>\n",
       "      <td>Customer</td>\n",
       "      <td>1979.0</td>\n",
       "      <td>0</td>\n",
       "      <td>Sunday</td>\n",
       "      <td>1</td>\n",
       "      <td>afternoon</td>\n",
       "      <td>0</td>\n",
       "      <td>7</td>\n",
       "      <td>2.418631</td>\n",
       "      <td>4.611797</td>\n",
       "    </tr>\n",
       "    <tr>\n",
       "      <th>546932</th>\n",
       "      <td>649</td>\n",
       "      <td>2015-06-18 21:04:00</td>\n",
       "      <td>2015-06-18 21:15:00</td>\n",
       "      <td>2009</td>\n",
       "      <td>Catherine St &amp; Monroe St</td>\n",
       "      <td>40.711174</td>\n",
       "      <td>-73.996826</td>\n",
       "      <td>341</td>\n",
       "      <td>Stanton St &amp; Mangin St</td>\n",
       "      <td>40.717821</td>\n",
       "      <td>...</td>\n",
       "      <td>Subscriber</td>\n",
       "      <td>1989.0</td>\n",
       "      <td>1</td>\n",
       "      <td>Thursday</td>\n",
       "      <td>0</td>\n",
       "      <td>evening</td>\n",
       "      <td>0</td>\n",
       "      <td>18</td>\n",
       "      <td>1.882093</td>\n",
       "      <td>10.439962</td>\n",
       "    </tr>\n",
       "    <tr>\n",
       "      <th>512065</th>\n",
       "      <td>861</td>\n",
       "      <td>2015-06-17 21:27:00</td>\n",
       "      <td>2015-06-17 21:41:00</td>\n",
       "      <td>391</td>\n",
       "      <td>Clark St &amp; Henry St</td>\n",
       "      <td>40.697601</td>\n",
       "      <td>-73.993446</td>\n",
       "      <td>218</td>\n",
       "      <td>Gallatin Pl &amp; Livingston St</td>\n",
       "      <td>40.690284</td>\n",
       "      <td>...</td>\n",
       "      <td>Customer</td>\n",
       "      <td>1979.0</td>\n",
       "      <td>0</td>\n",
       "      <td>Wednesday</td>\n",
       "      <td>0</td>\n",
       "      <td>evening</td>\n",
       "      <td>0</td>\n",
       "      <td>17</td>\n",
       "      <td>0.975079</td>\n",
       "      <td>4.076985</td>\n",
       "    </tr>\n",
       "    <tr>\n",
       "      <th>380951</th>\n",
       "      <td>1130</td>\n",
       "      <td>2015-06-13 16:54:00</td>\n",
       "      <td>2015-06-13 17:13:00</td>\n",
       "      <td>281</td>\n",
       "      <td>Grand Army Plaza &amp; Central Park S</td>\n",
       "      <td>40.764397</td>\n",
       "      <td>-73.973715</td>\n",
       "      <td>2021</td>\n",
       "      <td>W 45 St &amp; 8 Ave</td>\n",
       "      <td>40.759291</td>\n",
       "      <td>...</td>\n",
       "      <td>Customer</td>\n",
       "      <td>1979.0</td>\n",
       "      <td>0</td>\n",
       "      <td>Saturday</td>\n",
       "      <td>1</td>\n",
       "      <td>afternoon</td>\n",
       "      <td>0</td>\n",
       "      <td>13</td>\n",
       "      <td>1.375978</td>\n",
       "      <td>4.383647</td>\n",
       "    </tr>\n",
       "    <tr>\n",
       "      <th>172193</th>\n",
       "      <td>811</td>\n",
       "      <td>2015-06-07 17:10:00</td>\n",
       "      <td>2015-06-07 17:23:00</td>\n",
       "      <td>478</td>\n",
       "      <td>11 Ave &amp; W 41 St</td>\n",
       "      <td>40.760301</td>\n",
       "      <td>-73.998842</td>\n",
       "      <td>480</td>\n",
       "      <td>W 53 St &amp; 10 Ave</td>\n",
       "      <td>40.766697</td>\n",
       "      <td>...</td>\n",
       "      <td>Customer</td>\n",
       "      <td>1979.0</td>\n",
       "      <td>0</td>\n",
       "      <td>Sunday</td>\n",
       "      <td>1</td>\n",
       "      <td>afternoon</td>\n",
       "      <td>0</td>\n",
       "      <td>7</td>\n",
       "      <td>0.992782</td>\n",
       "      <td>4.406922</td>\n",
       "    </tr>\n",
       "  </tbody>\n",
       "</table>\n",
       "<p>5 rows × 22 columns</p>\n",
       "</div>"
      ],
      "text/plain": [
       "        tripduration            starttime             stoptime  \\\n",
       "163448          1888  2015-06-07 13:59:00  2015-06-07 14:30:00   \n",
       "546932           649  2015-06-18 21:04:00  2015-06-18 21:15:00   \n",
       "512065           861  2015-06-17 21:27:00  2015-06-17 21:41:00   \n",
       "380951          1130  2015-06-13 16:54:00  2015-06-13 17:13:00   \n",
       "172193           811  2015-06-07 17:10:00  2015-06-07 17:23:00   \n",
       "\n",
       "        start station id                 start station name  \\\n",
       "163448               335           Washington Pl & Broadway   \n",
       "546932              2009           Catherine St & Monroe St   \n",
       "512065               391                Clark St & Henry St   \n",
       "380951               281  Grand Army Plaza & Central Park S   \n",
       "172193               478                   11 Ave & W 41 St   \n",
       "\n",
       "        start station latitude  start station longitude  end station id  \\\n",
       "163448               40.729039               -73.994046             388   \n",
       "546932               40.711174               -73.996826             341   \n",
       "512065               40.697601               -73.993446             218   \n",
       "380951               40.764397               -73.973715            2021   \n",
       "172193               40.760301               -73.998842             480   \n",
       "\n",
       "                   end station name  end station latitude  ...    usertype  \\\n",
       "163448             W 26 St & 10 Ave             40.749718  ...    Customer   \n",
       "546932       Stanton St & Mangin St             40.717821  ...  Subscriber   \n",
       "512065  Gallatin Pl & Livingston St             40.690284  ...    Customer   \n",
       "380951              W 45 St & 8 Ave             40.759291  ...    Customer   \n",
       "172193             W 53 St & 10 Ave             40.766697  ...    Customer   \n",
       "\n",
       "        birth year gender  start_day  is_weekend start_moment  is_circle_trip  \\\n",
       "163448      1979.0      0     Sunday           1    afternoon               0   \n",
       "546932      1989.0      1   Thursday           0      evening               0   \n",
       "512065      1979.0      0  Wednesday           0      evening               0   \n",
       "380951      1979.0      0   Saturday           1    afternoon               0   \n",
       "172193      1979.0      0     Sunday           1    afternoon               0   \n",
       "\n",
       "       june_day  traveled_distance  average_speed  \n",
       "163448        7           2.418631       4.611797  \n",
       "546932       18           1.882093      10.439962  \n",
       "512065       17           0.975079       4.076985  \n",
       "380951       13           1.375978       4.383647  \n",
       "172193        7           0.992782       4.406922  \n",
       "\n",
       "[5 rows x 22 columns]"
      ]
     },
     "execution_count": 6,
     "metadata": {},
     "output_type": "execute_result"
    }
   ],
   "source": [
    "data.sample(5)\n",
    "#### PRINT SAMPLES USING .sample() AND CHECK THE FEATURES ####"
   ]
  },
  {
   "cell_type": "code",
   "execution_count": 7,
   "metadata": {},
   "outputs": [
    {
     "data": {
      "text/html": [
       "<div>\n",
       "<style scoped>\n",
       "    .dataframe tbody tr th:only-of-type {\n",
       "        vertical-align: middle;\n",
       "    }\n",
       "\n",
       "    .dataframe tbody tr th {\n",
       "        vertical-align: top;\n",
       "    }\n",
       "\n",
       "    .dataframe thead th {\n",
       "        text-align: right;\n",
       "    }\n",
       "</style>\n",
       "<table border=\"1\" class=\"dataframe\">\n",
       "  <thead>\n",
       "    <tr style=\"text-align: right;\">\n",
       "      <th></th>\n",
       "      <th>tripduration</th>\n",
       "      <th>starttime</th>\n",
       "      <th>stoptime</th>\n",
       "      <th>start station id</th>\n",
       "      <th>start station name</th>\n",
       "      <th>start station latitude</th>\n",
       "      <th>start station longitude</th>\n",
       "      <th>end station id</th>\n",
       "      <th>end station name</th>\n",
       "      <th>end station latitude</th>\n",
       "      <th>...</th>\n",
       "      <th>usertype</th>\n",
       "      <th>birth year</th>\n",
       "      <th>gender</th>\n",
       "      <th>start_day</th>\n",
       "      <th>is_weekend</th>\n",
       "      <th>start_moment</th>\n",
       "      <th>is_circle_trip</th>\n",
       "      <th>june_day</th>\n",
       "      <th>traveled_distance</th>\n",
       "      <th>average_speed</th>\n",
       "    </tr>\n",
       "  </thead>\n",
       "  <tbody>\n",
       "    <tr>\n",
       "      <th>935583</th>\n",
       "      <td>1053</td>\n",
       "      <td>2015-06-30 23:59:00</td>\n",
       "      <td>2015-07-01 00:17:00</td>\n",
       "      <td>323</td>\n",
       "      <td>Lawrence St &amp; Willoughby St</td>\n",
       "      <td>40.692362</td>\n",
       "      <td>-73.986317</td>\n",
       "      <td>436</td>\n",
       "      <td>Hancock St &amp; Bedford Ave</td>\n",
       "      <td>40.682166</td>\n",
       "      <td>...</td>\n",
       "      <td>Subscriber</td>\n",
       "      <td>1989.0</td>\n",
       "      <td>1</td>\n",
       "      <td>Tuesday</td>\n",
       "      <td>0</td>\n",
       "      <td>night</td>\n",
       "      <td>0</td>\n",
       "      <td>30</td>\n",
       "      <td>2.952121</td>\n",
       "      <td>10.092721</td>\n",
       "    </tr>\n",
       "    <tr>\n",
       "      <th>935584</th>\n",
       "      <td>1149</td>\n",
       "      <td>2015-06-30 23:59:00</td>\n",
       "      <td>2015-07-01 00:18:00</td>\n",
       "      <td>116</td>\n",
       "      <td>W 17 St &amp; 8 Ave</td>\n",
       "      <td>40.741776</td>\n",
       "      <td>-74.001497</td>\n",
       "      <td>487</td>\n",
       "      <td>E 20 St &amp; FDR Drive</td>\n",
       "      <td>40.733143</td>\n",
       "      <td>...</td>\n",
       "      <td>Customer</td>\n",
       "      <td>1979.0</td>\n",
       "      <td>0</td>\n",
       "      <td>Tuesday</td>\n",
       "      <td>0</td>\n",
       "      <td>night</td>\n",
       "      <td>0</td>\n",
       "      <td>30</td>\n",
       "      <td>2.373098</td>\n",
       "      <td>7.435293</td>\n",
       "    </tr>\n",
       "    <tr>\n",
       "      <th>935585</th>\n",
       "      <td>3557</td>\n",
       "      <td>2015-06-30 23:59:00</td>\n",
       "      <td>2015-07-01 00:58:00</td>\n",
       "      <td>454</td>\n",
       "      <td>E 51 St &amp; 1 Ave</td>\n",
       "      <td>40.754557</td>\n",
       "      <td>-73.965930</td>\n",
       "      <td>418</td>\n",
       "      <td>Front St &amp; Gold St</td>\n",
       "      <td>40.702240</td>\n",
       "      <td>...</td>\n",
       "      <td>Customer</td>\n",
       "      <td>1979.0</td>\n",
       "      <td>0</td>\n",
       "      <td>Tuesday</td>\n",
       "      <td>0</td>\n",
       "      <td>night</td>\n",
       "      <td>0</td>\n",
       "      <td>30</td>\n",
       "      <td>5.984186</td>\n",
       "      <td>6.056528</td>\n",
       "    </tr>\n",
       "    <tr>\n",
       "      <th>935586</th>\n",
       "      <td>819</td>\n",
       "      <td>2015-06-30 23:59:00</td>\n",
       "      <td>2015-07-01 00:13:00</td>\n",
       "      <td>410</td>\n",
       "      <td>Suffolk St &amp; Stanton St</td>\n",
       "      <td>40.720664</td>\n",
       "      <td>-73.985180</td>\n",
       "      <td>345</td>\n",
       "      <td>W 13 St &amp; 6 Ave</td>\n",
       "      <td>40.736494</td>\n",
       "      <td>...</td>\n",
       "      <td>Subscriber</td>\n",
       "      <td>1976.0</td>\n",
       "      <td>1</td>\n",
       "      <td>Tuesday</td>\n",
       "      <td>0</td>\n",
       "      <td>night</td>\n",
       "      <td>0</td>\n",
       "      <td>30</td>\n",
       "      <td>2.024263</td>\n",
       "      <td>8.897860</td>\n",
       "    </tr>\n",
       "    <tr>\n",
       "      <th>935587</th>\n",
       "      <td>667</td>\n",
       "      <td>2015-06-30 23:59:00</td>\n",
       "      <td>2015-07-01 00:10:00</td>\n",
       "      <td>308</td>\n",
       "      <td>St James Pl &amp; Oliver St</td>\n",
       "      <td>40.713079</td>\n",
       "      <td>-73.998512</td>\n",
       "      <td>2008</td>\n",
       "      <td>Little West St &amp; 1 Pl</td>\n",
       "      <td>40.705693</td>\n",
       "      <td>...</td>\n",
       "      <td>Subscriber</td>\n",
       "      <td>1982.0</td>\n",
       "      <td>1</td>\n",
       "      <td>Tuesday</td>\n",
       "      <td>0</td>\n",
       "      <td>night</td>\n",
       "      <td>0</td>\n",
       "      <td>30</td>\n",
       "      <td>1.744930</td>\n",
       "      <td>9.417911</td>\n",
       "    </tr>\n",
       "  </tbody>\n",
       "</table>\n",
       "<p>5 rows × 22 columns</p>\n",
       "</div>"
      ],
      "text/plain": [
       "        tripduration            starttime             stoptime  \\\n",
       "935583          1053  2015-06-30 23:59:00  2015-07-01 00:17:00   \n",
       "935584          1149  2015-06-30 23:59:00  2015-07-01 00:18:00   \n",
       "935585          3557  2015-06-30 23:59:00  2015-07-01 00:58:00   \n",
       "935586           819  2015-06-30 23:59:00  2015-07-01 00:13:00   \n",
       "935587           667  2015-06-30 23:59:00  2015-07-01 00:10:00   \n",
       "\n",
       "        start station id           start station name  start station latitude  \\\n",
       "935583               323  Lawrence St & Willoughby St               40.692362   \n",
       "935584               116              W 17 St & 8 Ave               40.741776   \n",
       "935585               454              E 51 St & 1 Ave               40.754557   \n",
       "935586               410      Suffolk St & Stanton St               40.720664   \n",
       "935587               308      St James Pl & Oliver St               40.713079   \n",
       "\n",
       "        start station longitude  end station id          end station name  \\\n",
       "935583               -73.986317             436  Hancock St & Bedford Ave   \n",
       "935584               -74.001497             487       E 20 St & FDR Drive   \n",
       "935585               -73.965930             418        Front St & Gold St   \n",
       "935586               -73.985180             345           W 13 St & 6 Ave   \n",
       "935587               -73.998512            2008     Little West St & 1 Pl   \n",
       "\n",
       "        end station latitude  ...    usertype  birth year gender  start_day  \\\n",
       "935583             40.682166  ...  Subscriber      1989.0      1    Tuesday   \n",
       "935584             40.733143  ...    Customer      1979.0      0    Tuesday   \n",
       "935585             40.702240  ...    Customer      1979.0      0    Tuesday   \n",
       "935586             40.736494  ...  Subscriber      1976.0      1    Tuesday   \n",
       "935587             40.705693  ...  Subscriber      1982.0      1    Tuesday   \n",
       "\n",
       "        is_weekend start_moment  is_circle_trip june_day  traveled_distance  \\\n",
       "935583           0        night               0       30           2.952121   \n",
       "935584           0        night               0       30           2.373098   \n",
       "935585           0        night               0       30           5.984186   \n",
       "935586           0        night               0       30           2.024263   \n",
       "935587           0        night               0       30           1.744930   \n",
       "\n",
       "        average_speed  \n",
       "935583      10.092721  \n",
       "935584       7.435293  \n",
       "935585       6.056528  \n",
       "935586       8.897860  \n",
       "935587       9.417911  \n",
       "\n",
       "[5 rows x 22 columns]"
      ]
     },
     "execution_count": 7,
     "metadata": {},
     "output_type": "execute_result"
    }
   ],
   "source": [
    "data.tail()"
   ]
  },
  {
   "cell_type": "code",
   "execution_count": 8,
   "metadata": {},
   "outputs": [
    {
     "data": {
      "text/html": [
       "<div>\n",
       "<style scoped>\n",
       "    .dataframe tbody tr th:only-of-type {\n",
       "        vertical-align: middle;\n",
       "    }\n",
       "\n",
       "    .dataframe tbody tr th {\n",
       "        vertical-align: top;\n",
       "    }\n",
       "\n",
       "    .dataframe thead th {\n",
       "        text-align: right;\n",
       "    }\n",
       "</style>\n",
       "<table border=\"1\" class=\"dataframe\">\n",
       "  <thead>\n",
       "    <tr style=\"text-align: right;\">\n",
       "      <th></th>\n",
       "      <th>tripduration</th>\n",
       "      <th>starttime</th>\n",
       "      <th>stoptime</th>\n",
       "      <th>start station id</th>\n",
       "      <th>start station name</th>\n",
       "      <th>start station latitude</th>\n",
       "      <th>start station longitude</th>\n",
       "      <th>end station id</th>\n",
       "      <th>end station name</th>\n",
       "      <th>end station latitude</th>\n",
       "      <th>...</th>\n",
       "      <th>usertype</th>\n",
       "      <th>birth year</th>\n",
       "      <th>gender</th>\n",
       "      <th>start_day</th>\n",
       "      <th>is_weekend</th>\n",
       "      <th>start_moment</th>\n",
       "      <th>is_circle_trip</th>\n",
       "      <th>june_day</th>\n",
       "      <th>traveled_distance</th>\n",
       "      <th>average_speed</th>\n",
       "    </tr>\n",
       "  </thead>\n",
       "  <tbody>\n",
       "    <tr>\n",
       "      <th>0</th>\n",
       "      <td>1338</td>\n",
       "      <td>2015-06-01 00:00:00</td>\n",
       "      <td>2015-06-01 00:22:00</td>\n",
       "      <td>128</td>\n",
       "      <td>MacDougal St &amp; Prince St</td>\n",
       "      <td>40.727103</td>\n",
       "      <td>-74.002971</td>\n",
       "      <td>2021</td>\n",
       "      <td>W 45 St &amp; 8 Ave</td>\n",
       "      <td>40.759291</td>\n",
       "      <td>...</td>\n",
       "      <td>Subscriber</td>\n",
       "      <td>1984.0</td>\n",
       "      <td>1</td>\n",
       "      <td>Monday</td>\n",
       "      <td>0</td>\n",
       "      <td>night</td>\n",
       "      <td>0</td>\n",
       "      <td>1</td>\n",
       "      <td>3.778532</td>\n",
       "      <td>10.166454</td>\n",
       "    </tr>\n",
       "    <tr>\n",
       "      <th>1</th>\n",
       "      <td>290</td>\n",
       "      <td>2015-06-01 00:00:00</td>\n",
       "      <td>2015-06-01 00:05:00</td>\n",
       "      <td>438</td>\n",
       "      <td>St Marks Pl &amp; 1 Ave</td>\n",
       "      <td>40.727791</td>\n",
       "      <td>-73.985649</td>\n",
       "      <td>312</td>\n",
       "      <td>Allen St &amp; E Houston St</td>\n",
       "      <td>40.722055</td>\n",
       "      <td>...</td>\n",
       "      <td>Subscriber</td>\n",
       "      <td>1997.0</td>\n",
       "      <td>1</td>\n",
       "      <td>Monday</td>\n",
       "      <td>0</td>\n",
       "      <td>night</td>\n",
       "      <td>0</td>\n",
       "      <td>1</td>\n",
       "      <td>0.701381</td>\n",
       "      <td>8.706796</td>\n",
       "    </tr>\n",
       "    <tr>\n",
       "      <th>2</th>\n",
       "      <td>634</td>\n",
       "      <td>2015-06-01 00:01:00</td>\n",
       "      <td>2015-06-01 00:11:00</td>\n",
       "      <td>383</td>\n",
       "      <td>Greenwich Ave &amp; Charles St</td>\n",
       "      <td>40.735238</td>\n",
       "      <td>-74.000271</td>\n",
       "      <td>388</td>\n",
       "      <td>W 26 St &amp; 10 Ave</td>\n",
       "      <td>40.749718</td>\n",
       "      <td>...</td>\n",
       "      <td>Subscriber</td>\n",
       "      <td>1993.0</td>\n",
       "      <td>1</td>\n",
       "      <td>Monday</td>\n",
       "      <td>0</td>\n",
       "      <td>night</td>\n",
       "      <td>0</td>\n",
       "      <td>1</td>\n",
       "      <td>1.625823</td>\n",
       "      <td>9.231803</td>\n",
       "    </tr>\n",
       "    <tr>\n",
       "      <th>3</th>\n",
       "      <td>159</td>\n",
       "      <td>2015-06-01 00:01:00</td>\n",
       "      <td>2015-06-01 00:04:00</td>\n",
       "      <td>361</td>\n",
       "      <td>Allen St &amp; Hester St</td>\n",
       "      <td>40.716059</td>\n",
       "      <td>-73.991908</td>\n",
       "      <td>531</td>\n",
       "      <td>Forsyth St &amp; Broome St</td>\n",
       "      <td>40.718939</td>\n",
       "      <td>...</td>\n",
       "      <td>Subscriber</td>\n",
       "      <td>1981.0</td>\n",
       "      <td>1</td>\n",
       "      <td>Monday</td>\n",
       "      <td>0</td>\n",
       "      <td>night</td>\n",
       "      <td>0</td>\n",
       "      <td>1</td>\n",
       "      <td>0.326548</td>\n",
       "      <td>7.393548</td>\n",
       "    </tr>\n",
       "    <tr>\n",
       "      <th>4</th>\n",
       "      <td>1233</td>\n",
       "      <td>2015-06-01 00:02:00</td>\n",
       "      <td>2015-06-01 00:22:00</td>\n",
       "      <td>382</td>\n",
       "      <td>University Pl &amp; E 14 St</td>\n",
       "      <td>40.734927</td>\n",
       "      <td>-73.992005</td>\n",
       "      <td>532</td>\n",
       "      <td>S 5 Pl &amp; S 4 St</td>\n",
       "      <td>40.710451</td>\n",
       "      <td>...</td>\n",
       "      <td>Customer</td>\n",
       "      <td>1979.0</td>\n",
       "      <td>0</td>\n",
       "      <td>Monday</td>\n",
       "      <td>0</td>\n",
       "      <td>night</td>\n",
       "      <td>0</td>\n",
       "      <td>1</td>\n",
       "      <td>3.780067</td>\n",
       "      <td>11.036692</td>\n",
       "    </tr>\n",
       "  </tbody>\n",
       "</table>\n",
       "<p>5 rows × 22 columns</p>\n",
       "</div>"
      ],
      "text/plain": [
       "   tripduration            starttime             stoptime  start station id  \\\n",
       "0          1338  2015-06-01 00:00:00  2015-06-01 00:22:00               128   \n",
       "1           290  2015-06-01 00:00:00  2015-06-01 00:05:00               438   \n",
       "2           634  2015-06-01 00:01:00  2015-06-01 00:11:00               383   \n",
       "3           159  2015-06-01 00:01:00  2015-06-01 00:04:00               361   \n",
       "4          1233  2015-06-01 00:02:00  2015-06-01 00:22:00               382   \n",
       "\n",
       "           start station name  start station latitude  \\\n",
       "0    MacDougal St & Prince St               40.727103   \n",
       "1         St Marks Pl & 1 Ave               40.727791   \n",
       "2  Greenwich Ave & Charles St               40.735238   \n",
       "3        Allen St & Hester St               40.716059   \n",
       "4     University Pl & E 14 St               40.734927   \n",
       "\n",
       "   start station longitude  end station id         end station name  \\\n",
       "0               -74.002971            2021          W 45 St & 8 Ave   \n",
       "1               -73.985649             312  Allen St & E Houston St   \n",
       "2               -74.000271             388         W 26 St & 10 Ave   \n",
       "3               -73.991908             531   Forsyth St & Broome St   \n",
       "4               -73.992005             532          S 5 Pl & S 4 St   \n",
       "\n",
       "   end station latitude  ...    usertype  birth year gender  start_day  \\\n",
       "0             40.759291  ...  Subscriber      1984.0      1     Monday   \n",
       "1             40.722055  ...  Subscriber      1997.0      1     Monday   \n",
       "2             40.749718  ...  Subscriber      1993.0      1     Monday   \n",
       "3             40.718939  ...  Subscriber      1981.0      1     Monday   \n",
       "4             40.710451  ...    Customer      1979.0      0     Monday   \n",
       "\n",
       "   is_weekend start_moment  is_circle_trip june_day  traveled_distance  \\\n",
       "0           0        night               0        1           3.778532   \n",
       "1           0        night               0        1           0.701381   \n",
       "2           0        night               0        1           1.625823   \n",
       "3           0        night               0        1           0.326548   \n",
       "4           0        night               0        1           3.780067   \n",
       "\n",
       "   average_speed  \n",
       "0      10.166454  \n",
       "1       8.706796  \n",
       "2       9.231803  \n",
       "3       7.393548  \n",
       "4      11.036692  \n",
       "\n",
       "[5 rows x 22 columns]"
      ]
     },
     "execution_count": 8,
     "metadata": {},
     "output_type": "execute_result"
    }
   ],
   "source": [
    "data.head()"
   ]
  },
  {
   "cell_type": "markdown",
   "metadata": {},
   "source": [
    "# Predictive modeling"
   ]
  },
  {
   "cell_type": "markdown",
   "metadata": {},
   "source": [
    "## 1) Variable encoding <font color='blue'> (15 min) </font>"
   ]
  },
  {
   "cell_type": "markdown",
   "metadata": {},
   "source": [
    "Categorical variables need to be converted to numbers so as to train machine learning algorithms. There are different kinds of variables encoding, such as dummy-encoding: this method consists in building $n$ binary columns when a variable can take $n$ values. When regression is used, features need not be correlated, hence $n-1$ binary columns will be created."
   ]
  },
  {
   "cell_type": "markdown",
   "metadata": {},
   "source": [
    "### <font color='red'>1.1) Understand how the <i>pd.get_dummies(data.column_name_here)</i> function allows to create dummy variables</font>"
   ]
  },
  {
   "cell_type": "code",
   "execution_count": 9,
   "metadata": {
    "jupyter": {
     "outputs_hidden": false
    }
   },
   "outputs": [
    {
     "data": {
      "text/html": [
       "<div>\n",
       "<style scoped>\n",
       "    .dataframe tbody tr th:only-of-type {\n",
       "        vertical-align: middle;\n",
       "    }\n",
       "\n",
       "    .dataframe tbody tr th {\n",
       "        vertical-align: top;\n",
       "    }\n",
       "\n",
       "    .dataframe thead th {\n",
       "        text-align: right;\n",
       "    }\n",
       "</style>\n",
       "<table border=\"1\" class=\"dataframe\">\n",
       "  <thead>\n",
       "    <tr style=\"text-align: right;\">\n",
       "      <th></th>\n",
       "      <th>afternoon</th>\n",
       "      <th>evening</th>\n",
       "      <th>morning</th>\n",
       "      <th>night</th>\n",
       "    </tr>\n",
       "  </thead>\n",
       "  <tbody>\n",
       "    <tr>\n",
       "      <th>0</th>\n",
       "      <td>0</td>\n",
       "      <td>0</td>\n",
       "      <td>0</td>\n",
       "      <td>1</td>\n",
       "    </tr>\n",
       "    <tr>\n",
       "      <th>1</th>\n",
       "      <td>0</td>\n",
       "      <td>0</td>\n",
       "      <td>0</td>\n",
       "      <td>1</td>\n",
       "    </tr>\n",
       "    <tr>\n",
       "      <th>2</th>\n",
       "      <td>0</td>\n",
       "      <td>0</td>\n",
       "      <td>0</td>\n",
       "      <td>1</td>\n",
       "    </tr>\n",
       "    <tr>\n",
       "      <th>3</th>\n",
       "      <td>0</td>\n",
       "      <td>0</td>\n",
       "      <td>0</td>\n",
       "      <td>1</td>\n",
       "    </tr>\n",
       "    <tr>\n",
       "      <th>4</th>\n",
       "      <td>0</td>\n",
       "      <td>0</td>\n",
       "      <td>0</td>\n",
       "      <td>1</td>\n",
       "    </tr>\n",
       "  </tbody>\n",
       "</table>\n",
       "</div>"
      ],
      "text/plain": [
       "   afternoon  evening  morning  night\n",
       "0          0        0        0      1\n",
       "1          0        0        0      1\n",
       "2          0        0        0      1\n",
       "3          0        0        0      1\n",
       "4          0        0        0      1"
      ]
     },
     "execution_count": 9,
     "metadata": {},
     "output_type": "execute_result"
    }
   ],
   "source": [
    "pd.get_dummies(data.start_moment).head()\n",
    "#### TRY HERE TO DUMMY-ENCODE START MOMENT OF THE DATASET, USING pd.get_dummies(data.start_moment) ####"
   ]
  },
  {
   "cell_type": "markdown",
   "metadata": {},
   "source": [
    "### <font color='red'>1.2) Print the names of the columns of the dataset using <i>data.columns</i>. Which ones should be dummified ?</font>"
   ]
  },
  {
   "cell_type": "code",
   "execution_count": 10,
   "metadata": {
    "jupyter": {
     "outputs_hidden": false
    }
   },
   "outputs": [
    {
     "data": {
      "text/plain": [
       "Index(['tripduration', 'starttime', 'stoptime', 'start station id',\n",
       "       'start station name', 'start station latitude',\n",
       "       'start station longitude', 'end station id', 'end station name',\n",
       "       'end station latitude', 'end station longitude', 'bikeid', 'usertype',\n",
       "       'birth year', 'gender', 'start_day', 'is_weekend', 'start_moment',\n",
       "       'is_circle_trip', 'june_day', 'traveled_distance', 'average_speed'],\n",
       "      dtype='object')"
      ]
     },
     "execution_count": 10,
     "metadata": {},
     "output_type": "execute_result"
    }
   ],
   "source": [
    "#data.info()\n",
    "data.columns\n",
    "#### PRINT THE NAMES OF THE COLUMNS ####"
   ]
  },
  {
   "cell_type": "markdown",
   "metadata": {},
   "source": [
    "### <font color='red'>1.3) Fill in the following loop so you append to the existing DataFrame the newly created dummy columns</font>"
   ]
  },
  {
   "cell_type": "code",
   "execution_count": 11,
   "metadata": {
    "jupyter": {
     "outputs_hidden": false
    }
   },
   "outputs": [
    {
     "name": "stdout",
     "output_type": "stream",
     "text": [
      "Dummifying the start_day variable ...\n",
      "Dummifying the is_weekend variable ...\n",
      "Dummifying the start_moment variable ...\n",
      "Dummifying the is_circle_trip variable ...\n"
     ]
    }
   ],
   "source": [
    "for variable_name in ['start_day','is_weekend',\n",
    "                      'start_moment','is_circle_trip']:\n",
    "    print('Dummifying the {} variable ...'.format(variable_name))\n",
    "    \n",
    "    dummies = pd.get_dummies(data[variable_name])\n",
    "    #### CREATE DUMMIES FROM THE COLUMN data[variable_name], as you did above with pd.get_dummies() ####\n",
    "    \n",
    "    dummies.columns = ['{}_{}'.format(variable_name,x) for x in dummies.columns]  # this will rename the column\n",
    "                                                                                  # in an appropriate way\n",
    "        \n",
    "    data = pd.concat([data,dummies],axis=1)  # This will append the dummy column to the existing dataframe"
   ]
  },
  {
   "cell_type": "markdown",
   "metadata": {},
   "source": [
    "### <font color='red'>1.4) Once you are sure that the dummy columns have been created (check by printing samples), delete the old columns</font>"
   ]
  },
  {
   "cell_type": "code",
   "execution_count": 12,
   "metadata": {
    "jupyter": {
     "outputs_hidden": false
    }
   },
   "outputs": [
    {
     "data": {
      "text/html": [
       "<div>\n",
       "<style scoped>\n",
       "    .dataframe tbody tr th:only-of-type {\n",
       "        vertical-align: middle;\n",
       "    }\n",
       "\n",
       "    .dataframe tbody tr th {\n",
       "        vertical-align: top;\n",
       "    }\n",
       "\n",
       "    .dataframe thead th {\n",
       "        text-align: right;\n",
       "    }\n",
       "</style>\n",
       "<table border=\"1\" class=\"dataframe\">\n",
       "  <thead>\n",
       "    <tr style=\"text-align: right;\">\n",
       "      <th></th>\n",
       "      <th>start_day_Friday</th>\n",
       "      <th>start_day_Monday</th>\n",
       "      <th>start_day_Saturday</th>\n",
       "      <th>start_day_Sunday</th>\n",
       "      <th>start_day_Thursday</th>\n",
       "      <th>start_day_Tuesday</th>\n",
       "      <th>start_day_Wednesday</th>\n",
       "      <th>is_weekend_0</th>\n",
       "      <th>is_weekend_1</th>\n",
       "      <th>start_moment_afternoon</th>\n",
       "      <th>start_moment_evening</th>\n",
       "      <th>start_moment_morning</th>\n",
       "      <th>start_moment_night</th>\n",
       "      <th>is_circle_trip_0</th>\n",
       "      <th>is_circle_trip_1</th>\n",
       "    </tr>\n",
       "  </thead>\n",
       "  <tbody>\n",
       "    <tr>\n",
       "      <th>646310</th>\n",
       "      <td>0</td>\n",
       "      <td>1</td>\n",
       "      <td>0</td>\n",
       "      <td>0</td>\n",
       "      <td>0</td>\n",
       "      <td>0</td>\n",
       "      <td>0</td>\n",
       "      <td>1</td>\n",
       "      <td>0</td>\n",
       "      <td>0</td>\n",
       "      <td>0</td>\n",
       "      <td>1</td>\n",
       "      <td>0</td>\n",
       "      <td>1</td>\n",
       "      <td>0</td>\n",
       "    </tr>\n",
       "    <tr>\n",
       "      <th>438514</th>\n",
       "      <td>0</td>\n",
       "      <td>1</td>\n",
       "      <td>0</td>\n",
       "      <td>0</td>\n",
       "      <td>0</td>\n",
       "      <td>0</td>\n",
       "      <td>0</td>\n",
       "      <td>1</td>\n",
       "      <td>0</td>\n",
       "      <td>0</td>\n",
       "      <td>1</td>\n",
       "      <td>0</td>\n",
       "      <td>0</td>\n",
       "      <td>1</td>\n",
       "      <td>0</td>\n",
       "    </tr>\n",
       "    <tr>\n",
       "      <th>278447</th>\n",
       "      <td>0</td>\n",
       "      <td>0</td>\n",
       "      <td>0</td>\n",
       "      <td>0</td>\n",
       "      <td>0</td>\n",
       "      <td>0</td>\n",
       "      <td>1</td>\n",
       "      <td>1</td>\n",
       "      <td>0</td>\n",
       "      <td>1</td>\n",
       "      <td>0</td>\n",
       "      <td>0</td>\n",
       "      <td>0</td>\n",
       "      <td>1</td>\n",
       "      <td>0</td>\n",
       "    </tr>\n",
       "    <tr>\n",
       "      <th>407852</th>\n",
       "      <td>0</td>\n",
       "      <td>0</td>\n",
       "      <td>0</td>\n",
       "      <td>1</td>\n",
       "      <td>0</td>\n",
       "      <td>0</td>\n",
       "      <td>0</td>\n",
       "      <td>0</td>\n",
       "      <td>1</td>\n",
       "      <td>1</td>\n",
       "      <td>0</td>\n",
       "      <td>0</td>\n",
       "      <td>0</td>\n",
       "      <td>1</td>\n",
       "      <td>0</td>\n",
       "    </tr>\n",
       "    <tr>\n",
       "      <th>1685</th>\n",
       "      <td>0</td>\n",
       "      <td>1</td>\n",
       "      <td>0</td>\n",
       "      <td>0</td>\n",
       "      <td>0</td>\n",
       "      <td>0</td>\n",
       "      <td>0</td>\n",
       "      <td>1</td>\n",
       "      <td>0</td>\n",
       "      <td>0</td>\n",
       "      <td>0</td>\n",
       "      <td>1</td>\n",
       "      <td>0</td>\n",
       "      <td>1</td>\n",
       "      <td>0</td>\n",
       "    </tr>\n",
       "  </tbody>\n",
       "</table>\n",
       "</div>"
      ],
      "text/plain": [
       "        start_day_Friday  start_day_Monday  start_day_Saturday  \\\n",
       "646310                 0                 1                   0   \n",
       "438514                 0                 1                   0   \n",
       "278447                 0                 0                   0   \n",
       "407852                 0                 0                   0   \n",
       "1685                   0                 1                   0   \n",
       "\n",
       "        start_day_Sunday  start_day_Thursday  start_day_Tuesday  \\\n",
       "646310                 0                   0                  0   \n",
       "438514                 0                   0                  0   \n",
       "278447                 0                   0                  0   \n",
       "407852                 1                   0                  0   \n",
       "1685                   0                   0                  0   \n",
       "\n",
       "        start_day_Wednesday  is_weekend_0  is_weekend_1  \\\n",
       "646310                    0             1             0   \n",
       "438514                    0             1             0   \n",
       "278447                    1             1             0   \n",
       "407852                    0             0             1   \n",
       "1685                      0             1             0   \n",
       "\n",
       "        start_moment_afternoon  start_moment_evening  start_moment_morning  \\\n",
       "646310                       0                     0                     1   \n",
       "438514                       0                     1                     0   \n",
       "278447                       1                     0                     0   \n",
       "407852                       1                     0                     0   \n",
       "1685                         0                     0                     1   \n",
       "\n",
       "        start_moment_night  is_circle_trip_0  is_circle_trip_1  \n",
       "646310                   0                 1                 0  \n",
       "438514                   0                 1                 0  \n",
       "278447                   0                 1                 0  \n",
       "407852                   0                 1                 0  \n",
       "1685                     0                 1                 0  "
      ]
     },
     "execution_count": 12,
     "metadata": {},
     "output_type": "execute_result"
    }
   ],
   "source": [
    "#### CHECK THAT DUMMIFICATION IS SUCCESSFUL BY PRINTING SAMPLES AND COLUMNS NAMES ####\n",
    "dummy = ['start_day_Friday',\n",
    "       'start_day_Monday', 'start_day_Saturday', 'start_day_Sunday',\n",
    "       'start_day_Thursday', 'start_day_Tuesday', 'start_day_Wednesday',\n",
    "       'is_weekend_0', 'is_weekend_1', 'start_moment_afternoon',\n",
    "       'start_moment_evening', 'start_moment_morning', 'start_moment_night',\n",
    "       'is_circle_trip_0', 'is_circle_trip_1']\n",
    "data[dummy].sample(5)"
   ]
  },
  {
   "cell_type": "code",
   "execution_count": 13,
   "metadata": {
    "jupyter": {
     "outputs_hidden": false
    }
   },
   "outputs": [
    {
     "name": "stdout",
     "output_type": "stream",
     "text": [
      "Deleting the start_day variable ...\n",
      "Deleting the is_weekend variable ...\n",
      "Deleting the start_moment variable ...\n",
      "Deleting the is_circle_trip variable ...\n"
     ]
    }
   ],
   "source": [
    "for variable_name in ['start_day','is_weekend',\n",
    "                      'start_moment','is_circle_trip']:\n",
    "    print('Deleting the {} variable ...'.format(variable_name))\n",
    "    #### DELETE THE OLD COLUMN USING del data[column_name_here] HERE ####\n",
    "    del data[variable_name]"
   ]
  },
  {
   "cell_type": "markdown",
   "metadata": {},
   "source": [
    "## 2) Correlation matrix <font color='blue'> (15 min) </font>"
   ]
  },
  {
   "cell_type": "markdown",
   "metadata": {},
   "source": [
    "### <font color='red'>2.1) Using the <i>.corr()</i> method on <i>data</i>, print samples of the Pearson correlations between features within the dataset</font>"
   ]
  },
  {
   "cell_type": "code",
   "execution_count": 14,
   "metadata": {},
   "outputs": [],
   "source": [
    "corr = data.corr(method='pearson')\n",
    "#### COMPUTE THE PEARSON CORRELATION BETWEEN FEATURES HERE ####"
   ]
  },
  {
   "cell_type": "code",
   "execution_count": 15,
   "metadata": {
    "jupyter": {
     "outputs_hidden": false
    }
   },
   "outputs": [
    {
     "data": {
      "text/html": [
       "<div>\n",
       "<style scoped>\n",
       "    .dataframe tbody tr th:only-of-type {\n",
       "        vertical-align: middle;\n",
       "    }\n",
       "\n",
       "    .dataframe tbody tr th {\n",
       "        vertical-align: top;\n",
       "    }\n",
       "\n",
       "    .dataframe thead th {\n",
       "        text-align: right;\n",
       "    }\n",
       "</style>\n",
       "<table border=\"1\" class=\"dataframe\">\n",
       "  <thead>\n",
       "    <tr style=\"text-align: right;\">\n",
       "      <th></th>\n",
       "      <th>tripduration</th>\n",
       "      <th>start station id</th>\n",
       "      <th>start station latitude</th>\n",
       "      <th>start station longitude</th>\n",
       "      <th>end station id</th>\n",
       "      <th>end station latitude</th>\n",
       "      <th>end station longitude</th>\n",
       "      <th>bikeid</th>\n",
       "      <th>birth year</th>\n",
       "      <th>gender</th>\n",
       "      <th>...</th>\n",
       "      <th>start_day_Tuesday</th>\n",
       "      <th>start_day_Wednesday</th>\n",
       "      <th>is_weekend_0</th>\n",
       "      <th>is_weekend_1</th>\n",
       "      <th>start_moment_afternoon</th>\n",
       "      <th>start_moment_evening</th>\n",
       "      <th>start_moment_morning</th>\n",
       "      <th>start_moment_night</th>\n",
       "      <th>is_circle_trip_0</th>\n",
       "      <th>is_circle_trip_1</th>\n",
       "    </tr>\n",
       "  </thead>\n",
       "  <tbody>\n",
       "    <tr>\n",
       "      <th>start station id</th>\n",
       "      <td>0.078284</td>\n",
       "      <td>1.000000</td>\n",
       "      <td>0.075189</td>\n",
       "      <td>0.036275</td>\n",
       "      <td>0.068910</td>\n",
       "      <td>0.061170</td>\n",
       "      <td>0.000377</td>\n",
       "      <td>0.001104</td>\n",
       "      <td>-0.002436</td>\n",
       "      <td>-0.037537</td>\n",
       "      <td>...</td>\n",
       "      <td>-0.004243</td>\n",
       "      <td>0.000805</td>\n",
       "      <td>-0.006643</td>\n",
       "      <td>0.006643</td>\n",
       "      <td>0.003200</td>\n",
       "      <td>-0.003456</td>\n",
       "      <td>0.004978</td>\n",
       "      <td>-0.010408</td>\n",
       "      <td>-0.061660</td>\n",
       "      <td>0.061660</td>\n",
       "    </tr>\n",
       "    <tr>\n",
       "      <th>start_day_Tuesday</th>\n",
       "      <td>-0.038991</td>\n",
       "      <td>-0.004243</td>\n",
       "      <td>0.018502</td>\n",
       "      <td>0.011682</td>\n",
       "      <td>-0.003218</td>\n",
       "      <td>0.017257</td>\n",
       "      <td>0.008881</td>\n",
       "      <td>-0.001082</td>\n",
       "      <td>-0.013926</td>\n",
       "      <td>0.029990</td>\n",
       "      <td>...</td>\n",
       "      <td>1.000000</td>\n",
       "      <td>-0.192170</td>\n",
       "      <td>0.226178</td>\n",
       "      <td>-0.226178</td>\n",
       "      <td>-0.039648</td>\n",
       "      <td>0.004270</td>\n",
       "      <td>0.045831</td>\n",
       "      <td>-0.010616</td>\n",
       "      <td>0.011687</td>\n",
       "      <td>-0.011687</td>\n",
       "    </tr>\n",
       "    <tr>\n",
       "      <th>start station longitude</th>\n",
       "      <td>-0.011599</td>\n",
       "      <td>0.036275</td>\n",
       "      <td>0.214463</td>\n",
       "      <td>1.000000</td>\n",
       "      <td>0.000462</td>\n",
       "      <td>0.090354</td>\n",
       "      <td>0.443117</td>\n",
       "      <td>-0.001601</td>\n",
       "      <td>0.036921</td>\n",
       "      <td>0.010361</td>\n",
       "      <td>...</td>\n",
       "      <td>0.011682</td>\n",
       "      <td>0.001134</td>\n",
       "      <td>0.017227</td>\n",
       "      <td>-0.017227</td>\n",
       "      <td>-0.036674</td>\n",
       "      <td>-0.025537</td>\n",
       "      <td>0.060486</td>\n",
       "      <td>-0.000926</td>\n",
       "      <td>-0.013966</td>\n",
       "      <td>0.013966</td>\n",
       "    </tr>\n",
       "    <tr>\n",
       "      <th>average_speed</th>\n",
       "      <td>-0.330852</td>\n",
       "      <td>-0.025757</td>\n",
       "      <td>0.023177</td>\n",
       "      <td>0.018609</td>\n",
       "      <td>-0.023852</td>\n",
       "      <td>0.010388</td>\n",
       "      <td>-0.008972</td>\n",
       "      <td>0.001529</td>\n",
       "      <td>0.076597</td>\n",
       "      <td>0.144431</td>\n",
       "      <td>...</td>\n",
       "      <td>0.035265</td>\n",
       "      <td>0.025469</td>\n",
       "      <td>0.123572</td>\n",
       "      <td>-0.123572</td>\n",
       "      <td>-0.112305</td>\n",
       "      <td>-0.010434</td>\n",
       "      <td>0.118058</td>\n",
       "      <td>0.022855</td>\n",
       "      <td>-0.000238</td>\n",
       "      <td>0.000238</td>\n",
       "    </tr>\n",
       "    <tr>\n",
       "      <th>start_moment_morning</th>\n",
       "      <td>-0.062214</td>\n",
       "      <td>0.004978</td>\n",
       "      <td>0.013057</td>\n",
       "      <td>0.060486</td>\n",
       "      <td>0.004841</td>\n",
       "      <td>0.039539</td>\n",
       "      <td>-0.011987</td>\n",
       "      <td>-0.001223</td>\n",
       "      <td>-0.047783</td>\n",
       "      <td>0.074693</td>\n",
       "      <td>...</td>\n",
       "      <td>0.045831</td>\n",
       "      <td>0.022841</td>\n",
       "      <td>0.109862</td>\n",
       "      <td>-0.109862</td>\n",
       "      <td>-0.629155</td>\n",
       "      <td>-0.274674</td>\n",
       "      <td>1.000000</td>\n",
       "      <td>-0.178076</td>\n",
       "      <td>0.025514</td>\n",
       "      <td>-0.025514</td>\n",
       "    </tr>\n",
       "    <tr>\n",
       "      <th>start_moment_afternoon</th>\n",
       "      <td>0.060977</td>\n",
       "      <td>0.003200</td>\n",
       "      <td>0.010283</td>\n",
       "      <td>-0.036674</td>\n",
       "      <td>0.004733</td>\n",
       "      <td>0.011020</td>\n",
       "      <td>-0.013678</td>\n",
       "      <td>0.001569</td>\n",
       "      <td>-0.038281</td>\n",
       "      <td>-0.059588</td>\n",
       "      <td>...</td>\n",
       "      <td>-0.039648</td>\n",
       "      <td>-0.021657</td>\n",
       "      <td>-0.088195</td>\n",
       "      <td>0.088195</td>\n",
       "      <td>1.000000</td>\n",
       "      <td>-0.405445</td>\n",
       "      <td>-0.629155</td>\n",
       "      <td>-0.262858</td>\n",
       "      <td>-0.016039</td>\n",
       "      <td>0.016039</td>\n",
       "    </tr>\n",
       "    <tr>\n",
       "      <th>start_day_Sunday</th>\n",
       "      <td>0.086052</td>\n",
       "      <td>0.005383</td>\n",
       "      <td>-0.041158</td>\n",
       "      <td>-0.015572</td>\n",
       "      <td>0.003607</td>\n",
       "      <td>-0.041463</td>\n",
       "      <td>-0.013441</td>\n",
       "      <td>0.001172</td>\n",
       "      <td>0.045288</td>\n",
       "      <td>-0.073106</td>\n",
       "      <td>...</td>\n",
       "      <td>-0.154209</td>\n",
       "      <td>-0.156035</td>\n",
       "      <td>-0.681802</td>\n",
       "      <td>0.681802</td>\n",
       "      <td>0.078179</td>\n",
       "      <td>0.006865</td>\n",
       "      <td>-0.096522</td>\n",
       "      <td>0.010504</td>\n",
       "      <td>-0.032605</td>\n",
       "      <td>0.032605</td>\n",
       "    </tr>\n",
       "    <tr>\n",
       "      <th>is_weekend_0</th>\n",
       "      <td>-0.106935</td>\n",
       "      <td>-0.006643</td>\n",
       "      <td>0.058173</td>\n",
       "      <td>0.017227</td>\n",
       "      <td>-0.007235</td>\n",
       "      <td>0.058249</td>\n",
       "      <td>0.016046</td>\n",
       "      <td>-0.000642</td>\n",
       "      <td>-0.059434</td>\n",
       "      <td>0.103983</td>\n",
       "      <td>...</td>\n",
       "      <td>0.226178</td>\n",
       "      <td>0.228857</td>\n",
       "      <td>1.000000</td>\n",
       "      <td>-1.000000</td>\n",
       "      <td>-0.088195</td>\n",
       "      <td>0.013184</td>\n",
       "      <td>0.109862</td>\n",
       "      <td>-0.043075</td>\n",
       "      <td>0.044023</td>\n",
       "      <td>-0.044023</td>\n",
       "    </tr>\n",
       "    <tr>\n",
       "      <th>end station longitude</th>\n",
       "      <td>-0.002473</td>\n",
       "      <td>0.000377</td>\n",
       "      <td>0.087827</td>\n",
       "      <td>0.443117</td>\n",
       "      <td>0.035038</td>\n",
       "      <td>0.212042</td>\n",
       "      <td>1.000000</td>\n",
       "      <td>-0.000933</td>\n",
       "      <td>0.034107</td>\n",
       "      <td>0.005978</td>\n",
       "      <td>...</td>\n",
       "      <td>0.008881</td>\n",
       "      <td>0.002461</td>\n",
       "      <td>0.016046</td>\n",
       "      <td>-0.016046</td>\n",
       "      <td>-0.013678</td>\n",
       "      <td>0.014686</td>\n",
       "      <td>-0.011987</td>\n",
       "      <td>0.027857</td>\n",
       "      <td>-0.015675</td>\n",
       "      <td>0.015675</td>\n",
       "    </tr>\n",
       "    <tr>\n",
       "      <th>birth year</th>\n",
       "      <td>0.000124</td>\n",
       "      <td>-0.002436</td>\n",
       "      <td>-0.034545</td>\n",
       "      <td>0.036921</td>\n",
       "      <td>-0.003005</td>\n",
       "      <td>-0.039008</td>\n",
       "      <td>0.034107</td>\n",
       "      <td>-0.000130</td>\n",
       "      <td>1.000000</td>\n",
       "      <td>-0.023052</td>\n",
       "      <td>...</td>\n",
       "      <td>-0.013926</td>\n",
       "      <td>-0.019276</td>\n",
       "      <td>-0.059434</td>\n",
       "      <td>0.059434</td>\n",
       "      <td>-0.038281</td>\n",
       "      <td>0.075887</td>\n",
       "      <td>-0.047783</td>\n",
       "      <td>0.054649</td>\n",
       "      <td>0.000172</td>\n",
       "      <td>-0.000172</td>\n",
       "    </tr>\n",
       "    <tr>\n",
       "      <th>end station id</th>\n",
       "      <td>0.075306</td>\n",
       "      <td>0.068910</td>\n",
       "      <td>0.056839</td>\n",
       "      <td>0.000462</td>\n",
       "      <td>1.000000</td>\n",
       "      <td>0.071791</td>\n",
       "      <td>0.035038</td>\n",
       "      <td>0.000810</td>\n",
       "      <td>-0.003005</td>\n",
       "      <td>-0.041651</td>\n",
       "      <td>...</td>\n",
       "      <td>-0.003218</td>\n",
       "      <td>0.001006</td>\n",
       "      <td>-0.007235</td>\n",
       "      <td>0.007235</td>\n",
       "      <td>0.004733</td>\n",
       "      <td>-0.009444</td>\n",
       "      <td>0.004841</td>\n",
       "      <td>-0.004747</td>\n",
       "      <td>-0.062657</td>\n",
       "      <td>0.062657</td>\n",
       "    </tr>\n",
       "    <tr>\n",
       "      <th>start_moment_night</th>\n",
       "      <td>-0.016968</td>\n",
       "      <td>-0.010408</td>\n",
       "      <td>-0.012209</td>\n",
       "      <td>-0.000926</td>\n",
       "      <td>-0.004747</td>\n",
       "      <td>-0.027537</td>\n",
       "      <td>0.027857</td>\n",
       "      <td>-0.001891</td>\n",
       "      <td>0.054649</td>\n",
       "      <td>-0.023950</td>\n",
       "      <td>...</td>\n",
       "      <td>-0.010616</td>\n",
       "      <td>-0.009828</td>\n",
       "      <td>-0.043075</td>\n",
       "      <td>0.043075</td>\n",
       "      <td>-0.262858</td>\n",
       "      <td>-0.114757</td>\n",
       "      <td>-0.178076</td>\n",
       "      <td>1.000000</td>\n",
       "      <td>-0.005996</td>\n",
       "      <td>0.005996</td>\n",
       "    </tr>\n",
       "    <tr>\n",
       "      <th>start_day_Thursday</th>\n",
       "      <td>-0.033382</td>\n",
       "      <td>-0.002134</td>\n",
       "      <td>0.018294</td>\n",
       "      <td>0.005806</td>\n",
       "      <td>-0.002507</td>\n",
       "      <td>0.017702</td>\n",
       "      <td>0.003749</td>\n",
       "      <td>-0.000911</td>\n",
       "      <td>-0.015103</td>\n",
       "      <td>0.031182</td>\n",
       "      <td>...</td>\n",
       "      <td>-0.186430</td>\n",
       "      <td>-0.188638</td>\n",
       "      <td>0.222022</td>\n",
       "      <td>-0.222022</td>\n",
       "      <td>-0.024216</td>\n",
       "      <td>0.004675</td>\n",
       "      <td>0.024359</td>\n",
       "      <td>-0.002843</td>\n",
       "      <td>0.013924</td>\n",
       "      <td>-0.013924</td>\n",
       "    </tr>\n",
       "    <tr>\n",
       "      <th>bikeid</th>\n",
       "      <td>0.000265</td>\n",
       "      <td>0.001104</td>\n",
       "      <td>-0.000896</td>\n",
       "      <td>-0.001601</td>\n",
       "      <td>0.000810</td>\n",
       "      <td>-0.000736</td>\n",
       "      <td>-0.000933</td>\n",
       "      <td>1.000000</td>\n",
       "      <td>-0.000130</td>\n",
       "      <td>0.001374</td>\n",
       "      <td>...</td>\n",
       "      <td>-0.001082</td>\n",
       "      <td>0.001984</td>\n",
       "      <td>-0.000642</td>\n",
       "      <td>0.000642</td>\n",
       "      <td>0.001569</td>\n",
       "      <td>0.000716</td>\n",
       "      <td>-0.001223</td>\n",
       "      <td>-0.001891</td>\n",
       "      <td>0.001070</td>\n",
       "      <td>-0.001070</td>\n",
       "    </tr>\n",
       "    <tr>\n",
       "      <th>start_day_Friday</th>\n",
       "      <td>-0.008145</td>\n",
       "      <td>-0.000799</td>\n",
       "      <td>0.007775</td>\n",
       "      <td>-0.000586</td>\n",
       "      <td>-0.001883</td>\n",
       "      <td>0.008117</td>\n",
       "      <td>-0.002863</td>\n",
       "      <td>-0.002820</td>\n",
       "      <td>-0.007585</td>\n",
       "      <td>0.010475</td>\n",
       "      <td>...</td>\n",
       "      <td>-0.184180</td>\n",
       "      <td>-0.186362</td>\n",
       "      <td>0.219342</td>\n",
       "      <td>-0.219342</td>\n",
       "      <td>0.004307</td>\n",
       "      <td>-0.022070</td>\n",
       "      <td>0.010893</td>\n",
       "      <td>0.002957</td>\n",
       "      <td>0.008523</td>\n",
       "      <td>-0.008523</td>\n",
       "    </tr>\n",
       "  </tbody>\n",
       "</table>\n",
       "<p>15 rows × 28 columns</p>\n",
       "</div>"
      ],
      "text/plain": [
       "                         tripduration  start station id  \\\n",
       "start station id             0.078284          1.000000   \n",
       "start_day_Tuesday           -0.038991         -0.004243   \n",
       "start station longitude     -0.011599          0.036275   \n",
       "average_speed               -0.330852         -0.025757   \n",
       "start_moment_morning        -0.062214          0.004978   \n",
       "start_moment_afternoon       0.060977          0.003200   \n",
       "start_day_Sunday             0.086052          0.005383   \n",
       "is_weekend_0                -0.106935         -0.006643   \n",
       "end station longitude       -0.002473          0.000377   \n",
       "birth year                   0.000124         -0.002436   \n",
       "end station id               0.075306          0.068910   \n",
       "start_moment_night          -0.016968         -0.010408   \n",
       "start_day_Thursday          -0.033382         -0.002134   \n",
       "bikeid                       0.000265          0.001104   \n",
       "start_day_Friday            -0.008145         -0.000799   \n",
       "\n",
       "                         start station latitude  start station longitude  \\\n",
       "start station id                       0.075189                 0.036275   \n",
       "start_day_Tuesday                      0.018502                 0.011682   \n",
       "start station longitude                0.214463                 1.000000   \n",
       "average_speed                          0.023177                 0.018609   \n",
       "start_moment_morning                   0.013057                 0.060486   \n",
       "start_moment_afternoon                 0.010283                -0.036674   \n",
       "start_day_Sunday                      -0.041158                -0.015572   \n",
       "is_weekend_0                           0.058173                 0.017227   \n",
       "end station longitude                  0.087827                 0.443117   \n",
       "birth year                            -0.034545                 0.036921   \n",
       "end station id                         0.056839                 0.000462   \n",
       "start_moment_night                    -0.012209                -0.000926   \n",
       "start_day_Thursday                     0.018294                 0.005806   \n",
       "bikeid                                -0.000896                -0.001601   \n",
       "start_day_Friday                       0.007775                -0.000586   \n",
       "\n",
       "                         end station id  end station latitude  \\\n",
       "start station id               0.068910              0.061170   \n",
       "start_day_Tuesday             -0.003218              0.017257   \n",
       "start station longitude        0.000462              0.090354   \n",
       "average_speed                 -0.023852              0.010388   \n",
       "start_moment_morning           0.004841              0.039539   \n",
       "start_moment_afternoon         0.004733              0.011020   \n",
       "start_day_Sunday               0.003607             -0.041463   \n",
       "is_weekend_0                  -0.007235              0.058249   \n",
       "end station longitude          0.035038              0.212042   \n",
       "birth year                    -0.003005             -0.039008   \n",
       "end station id                 1.000000              0.071791   \n",
       "start_moment_night            -0.004747             -0.027537   \n",
       "start_day_Thursday            -0.002507              0.017702   \n",
       "bikeid                         0.000810             -0.000736   \n",
       "start_day_Friday              -0.001883              0.008117   \n",
       "\n",
       "                         end station longitude    bikeid  birth year  \\\n",
       "start station id                      0.000377  0.001104   -0.002436   \n",
       "start_day_Tuesday                     0.008881 -0.001082   -0.013926   \n",
       "start station longitude               0.443117 -0.001601    0.036921   \n",
       "average_speed                        -0.008972  0.001529    0.076597   \n",
       "start_moment_morning                 -0.011987 -0.001223   -0.047783   \n",
       "start_moment_afternoon               -0.013678  0.001569   -0.038281   \n",
       "start_day_Sunday                     -0.013441  0.001172    0.045288   \n",
       "is_weekend_0                          0.016046 -0.000642   -0.059434   \n",
       "end station longitude                 1.000000 -0.000933    0.034107   \n",
       "birth year                            0.034107 -0.000130    1.000000   \n",
       "end station id                        0.035038  0.000810   -0.003005   \n",
       "start_moment_night                    0.027857 -0.001891    0.054649   \n",
       "start_day_Thursday                    0.003749 -0.000911   -0.015103   \n",
       "bikeid                               -0.000933  1.000000   -0.000130   \n",
       "start_day_Friday                     -0.002863 -0.002820   -0.007585   \n",
       "\n",
       "                           gender  ...  start_day_Tuesday  \\\n",
       "start station id        -0.037537  ...          -0.004243   \n",
       "start_day_Tuesday        0.029990  ...           1.000000   \n",
       "start station longitude  0.010361  ...           0.011682   \n",
       "average_speed            0.144431  ...           0.035265   \n",
       "start_moment_morning     0.074693  ...           0.045831   \n",
       "start_moment_afternoon  -0.059588  ...          -0.039648   \n",
       "start_day_Sunday        -0.073106  ...          -0.154209   \n",
       "is_weekend_0             0.103983  ...           0.226178   \n",
       "end station longitude    0.005978  ...           0.008881   \n",
       "birth year              -0.023052  ...          -0.013926   \n",
       "end station id          -0.041651  ...          -0.003218   \n",
       "start_moment_night      -0.023950  ...          -0.010616   \n",
       "start_day_Thursday       0.031182  ...          -0.186430   \n",
       "bikeid                   0.001374  ...          -0.001082   \n",
       "start_day_Friday         0.010475  ...          -0.184180   \n",
       "\n",
       "                         start_day_Wednesday  is_weekend_0  is_weekend_1  \\\n",
       "start station id                    0.000805     -0.006643      0.006643   \n",
       "start_day_Tuesday                  -0.192170      0.226178     -0.226178   \n",
       "start station longitude             0.001134      0.017227     -0.017227   \n",
       "average_speed                       0.025469      0.123572     -0.123572   \n",
       "start_moment_morning                0.022841      0.109862     -0.109862   \n",
       "start_moment_afternoon             -0.021657     -0.088195      0.088195   \n",
       "start_day_Sunday                   -0.156035     -0.681802      0.681802   \n",
       "is_weekend_0                        0.228857      1.000000     -1.000000   \n",
       "end station longitude               0.002461      0.016046     -0.016046   \n",
       "birth year                         -0.019276     -0.059434      0.059434   \n",
       "end station id                      0.001006     -0.007235      0.007235   \n",
       "start_moment_night                 -0.009828     -0.043075      0.043075   \n",
       "start_day_Thursday                 -0.188638      0.222022     -0.222022   \n",
       "bikeid                              0.001984     -0.000642      0.000642   \n",
       "start_day_Friday                   -0.186362      0.219342     -0.219342   \n",
       "\n",
       "                         start_moment_afternoon  start_moment_evening  \\\n",
       "start station id                       0.003200             -0.003456   \n",
       "start_day_Tuesday                     -0.039648              0.004270   \n",
       "start station longitude               -0.036674             -0.025537   \n",
       "average_speed                         -0.112305             -0.010434   \n",
       "start_moment_morning                  -0.629155             -0.274674   \n",
       "start_moment_afternoon                 1.000000             -0.405445   \n",
       "start_day_Sunday                       0.078179              0.006865   \n",
       "is_weekend_0                          -0.088195              0.013184   \n",
       "end station longitude                 -0.013678              0.014686   \n",
       "birth year                            -0.038281              0.075887   \n",
       "end station id                         0.004733             -0.009444   \n",
       "start_moment_night                    -0.262858             -0.114757   \n",
       "start_day_Thursday                    -0.024216              0.004675   \n",
       "bikeid                                 0.001569              0.000716   \n",
       "start_day_Friday                       0.004307             -0.022070   \n",
       "\n",
       "                         start_moment_morning  start_moment_night  \\\n",
       "start station id                     0.004978           -0.010408   \n",
       "start_day_Tuesday                    0.045831           -0.010616   \n",
       "start station longitude              0.060486           -0.000926   \n",
       "average_speed                        0.118058            0.022855   \n",
       "start_moment_morning                 1.000000           -0.178076   \n",
       "start_moment_afternoon              -0.629155           -0.262858   \n",
       "start_day_Sunday                    -0.096522            0.010504   \n",
       "is_weekend_0                         0.109862           -0.043075   \n",
       "end station longitude               -0.011987            0.027857   \n",
       "birth year                          -0.047783            0.054649   \n",
       "end station id                       0.004841           -0.004747   \n",
       "start_moment_night                  -0.178076            1.000000   \n",
       "start_day_Thursday                   0.024359           -0.002843   \n",
       "bikeid                              -0.001223           -0.001891   \n",
       "start_day_Friday                     0.010893            0.002957   \n",
       "\n",
       "                         is_circle_trip_0  is_circle_trip_1  \n",
       "start station id                -0.061660          0.061660  \n",
       "start_day_Tuesday                0.011687         -0.011687  \n",
       "start station longitude         -0.013966          0.013966  \n",
       "average_speed                   -0.000238          0.000238  \n",
       "start_moment_morning             0.025514         -0.025514  \n",
       "start_moment_afternoon          -0.016039          0.016039  \n",
       "start_day_Sunday                -0.032605          0.032605  \n",
       "is_weekend_0                     0.044023         -0.044023  \n",
       "end station longitude           -0.015675          0.015675  \n",
       "birth year                       0.000172         -0.000172  \n",
       "end station id                  -0.062657          0.062657  \n",
       "start_moment_night              -0.005996          0.005996  \n",
       "start_day_Thursday               0.013924         -0.013924  \n",
       "bikeid                           0.001070         -0.001070  \n",
       "start_day_Friday                 0.008523         -0.008523  \n",
       "\n",
       "[15 rows x 28 columns]"
      ]
     },
     "execution_count": 15,
     "metadata": {},
     "output_type": "execute_result"
    }
   ],
   "source": [
    "#### PRINT SAMPLES OF THE CORRELATIONS HERE ####\n",
    "corr.sample(15)"
   ]
  },
  {
   "cell_type": "markdown",
   "metadata": {},
   "source": [
    "### <font color='red'>2.2) Using the <i>sns.heatmap()</i> function of seaborn, plot the Pearson correlations between features. You can refer to https://stanford.edu/~mwaskom/software/seaborn/generated/seaborn.heatmap.html to add a mask and make the plot look better</font>"
   ]
  },
  {
   "cell_type": "code",
   "execution_count": 16,
   "metadata": {
    "jupyter": {
     "outputs_hidden": false
    }
   },
   "outputs": [
    {
     "data": {
      "text/plain": [
       "Text(0.5, 1.0, 'Correlations between features')"
      ]
     },
     "execution_count": 16,
     "metadata": {},
     "output_type": "execute_result"
    },
    {
     "data": {
      "image/png": "[encoded data removed]",
      "text/plain": [
       "<Figure size 792x648 with 2 Axes>"
      ]
     },
     "metadata": {},
     "output_type": "display_data"
    }
   ],
   "source": [
    "#Generate a mask for the upper triangle\n",
    "sns.set_style('white')\n",
    "mask = np.zeros_like(corr, dtype=np.bool)\n",
    "mask[np.triu_indices_from(mask)]=True\n",
    "\n",
    "# Set up the matplotlib figure\n",
    "f, ax = plt.subplots(figsize=(11, 9))\n",
    "\n",
    "#Generate a custom diverging colormap\n",
    "#cmap = sns.diverging_palette(220, 10, as_cmap=True)\n",
    "cmap = sns.diverging_palette(150, 275, as_cmap=True)\n",
    " \n",
    "#Draw the heatmap with the mask and correct aspect ratio\n",
    "sns.heatmap(corr, mask=mask, cmap=cmap, vmax=1,\n",
    "            square=True, linewidths=.1, cbar_kws={\"shrink\": 1}, ax=ax)\n",
    " \n",
    "plt.title('Correlations between features', fontsize=17)"
   ]
  },
  {
   "cell_type": "markdown",
   "metadata": {},
   "source": [
    "## 3) Cross-validation : trying to predict customer vs. subscriber <font color='blue'> (35 min) </font>"
   ]
  },
  {
   "cell_type": "markdown",
   "metadata": {},
   "source": [
    "### <font color='red'>3.1) Use the <i>seaborn</i> function <i>sns.countplot(data.column_name_here)</i> to countplot the repartition of trips per user type (i.e the <i>usertype</i> column)</font>"
   ]
  },
  {
   "cell_type": "code",
   "execution_count": 17,
   "metadata": {
    "jupyter": {
     "outputs_hidden": false
    }
   },
   "outputs": [
    {
     "data": {
      "text/plain": [
       "Text(0.5, 1.0, 'Distribution of User Type')"
      ]
     },
     "execution_count": 17,
     "metadata": {},
     "output_type": "execute_result"
    },
    {
     "data": {
      "image/png": "[encoded data removed]",
      "text/plain": [
       "<Figure size 432x288 with 1 Axes>"
      ]
     },
     "metadata": {},
     "output_type": "display_data"
    }
   ],
   "source": [
    "#### COUNTPLOT THE REPARTITION OF TRIPS PER USER TYPE AND ADD A CLEAR TITLE ####\n",
    "g = sns.countplot(raw_data['usertype'])\n",
    "for p in g.patches:\n",
    "    g.text(p.get_x()+0.25, p.get_height()+1, p.get_height(), size = 10)\n",
    "plt.title('Distribution of User Type')"
   ]
  },
  {
   "cell_type": "markdown",
   "metadata": {},
   "source": [
    "Imbalanced dataset\n",
    "- Mild\t20-40% of the data set\n",
    "- Moderate\t1-20% of the data set\n",
    "- Extreme\t<1% of the data set"
   ]
  },
  {
   "cell_type": "markdown",
   "metadata": {},
   "source": [
    "### <font color='red'> Run the following block, it will delete a few columns for predictive modeling purposes </font>"
   ]
  },
  {
   "cell_type": "code",
   "execution_count": 18,
   "metadata": {},
   "outputs": [],
   "source": [
    "del data['starttime'], data['stoptime'], data['start station name'], data['end station name']\n",
    "del data['gender'], data['birth year']\n",
    "del data['bikeid']\n",
    "del data['start station id'], data['end station id']"
   ]
  },
  {
   "cell_type": "code",
   "execution_count": 19,
   "metadata": {},
   "outputs": [],
   "source": [
    "#del data['start_day'], data[''],data['']"
   ]
  },
  {
   "cell_type": "markdown",
   "metadata": {},
   "source": [
    "### <font color='red'>3.2) Print the different columns using <i>data.columns</i> </font>"
   ]
  },
  {
   "cell_type": "code",
   "execution_count": 20,
   "metadata": {},
   "outputs": [
    {
     "data": {
      "text/plain": [
       "array(['tripduration', 'start station latitude',\n",
       "       'start station longitude', 'end station latitude',\n",
       "       'end station longitude', 'usertype', 'june_day',\n",
       "       'traveled_distance', 'average_speed', 'start_day_Friday',\n",
       "       'start_day_Monday', 'start_day_Saturday', 'start_day_Sunday',\n",
       "       'start_day_Thursday', 'start_day_Tuesday', 'start_day_Wednesday',\n",
       "       'is_weekend_0', 'is_weekend_1', 'start_moment_afternoon',\n",
       "       'start_moment_evening', 'start_moment_morning',\n",
       "       'start_moment_night', 'is_circle_trip_0', 'is_circle_trip_1'],\n",
       "      dtype=object)"
      ]
     },
     "execution_count": 20,
     "metadata": {},
     "output_type": "execute_result"
    }
   ],
   "source": [
    "data.columns.values"
   ]
  },
  {
   "cell_type": "code",
   "execution_count": 21,
   "metadata": {
    "jupyter": {
     "outputs_hidden": false
    },
    "scrolled": false
   },
   "outputs": [
    {
     "name": "stdout",
     "output_type": "stream",
     "text": [
      "<class 'pandas.core.frame.DataFrame'>\n",
      "RangeIndex: 935588 entries, 0 to 935587\n",
      "Data columns (total 24 columns):\n",
      " #   Column                   Non-Null Count   Dtype  \n",
      "---  ------                   --------------   -----  \n",
      " 0   tripduration             935588 non-null  int64  \n",
      " 1   start station latitude   935588 non-null  float64\n",
      " 2   start station longitude  935588 non-null  float64\n",
      " 3   end station latitude     935588 non-null  float64\n",
      " 4   end station longitude    935588 non-null  float64\n",
      " 5   usertype                 935588 non-null  object \n",
      " 6   june_day                 935588 non-null  int64  \n",
      " 7   traveled_distance        935588 non-null  float64\n",
      " 8   average_speed            935588 non-null  float64\n",
      " 9   start_day_Friday         935588 non-null  uint8  \n",
      " 10  start_day_Monday         935588 non-null  uint8  \n",
      " 11  start_day_Saturday       935588 non-null  uint8  \n",
      " 12  start_day_Sunday         935588 non-null  uint8  \n",
      " 13  start_day_Thursday       935588 non-null  uint8  \n",
      " 14  start_day_Tuesday        935588 non-null  uint8  \n",
      " 15  start_day_Wednesday      935588 non-null  uint8  \n",
      " 16  is_weekend_0             935588 non-null  uint8  \n",
      " 17  is_weekend_1             935588 non-null  uint8  \n",
      " 18  start_moment_afternoon   935588 non-null  uint8  \n",
      " 19  start_moment_evening     935588 non-null  uint8  \n",
      " 20  start_moment_morning     935588 non-null  uint8  \n",
      " 21  start_moment_night       935588 non-null  uint8  \n",
      " 22  is_circle_trip_0         935588 non-null  uint8  \n",
      " 23  is_circle_trip_1         935588 non-null  uint8  \n",
      "dtypes: float64(6), int64(2), object(1), uint8(15)\n",
      "memory usage: 77.6+ MB\n"
     ]
    }
   ],
   "source": [
    "#### Info ####\n",
    "data.info()"
   ]
  },
  {
   "cell_type": "code",
   "execution_count": 22,
   "metadata": {},
   "outputs": [
    {
     "data": {
      "text/html": [
       "<div>\n",
       "<style scoped>\n",
       "    .dataframe tbody tr th:only-of-type {\n",
       "        vertical-align: middle;\n",
       "    }\n",
       "\n",
       "    .dataframe tbody tr th {\n",
       "        vertical-align: top;\n",
       "    }\n",
       "\n",
       "    .dataframe thead th {\n",
       "        text-align: right;\n",
       "    }\n",
       "</style>\n",
       "<table border=\"1\" class=\"dataframe\">\n",
       "  <thead>\n",
       "    <tr style=\"text-align: right;\">\n",
       "      <th></th>\n",
       "      <th>tripduration</th>\n",
       "      <th>start station latitude</th>\n",
       "      <th>start station longitude</th>\n",
       "      <th>end station latitude</th>\n",
       "      <th>end station longitude</th>\n",
       "      <th>usertype</th>\n",
       "      <th>june_day</th>\n",
       "      <th>traveled_distance</th>\n",
       "      <th>average_speed</th>\n",
       "      <th>start_day_Friday</th>\n",
       "      <th>...</th>\n",
       "      <th>start_day_Tuesday</th>\n",
       "      <th>start_day_Wednesday</th>\n",
       "      <th>is_weekend_0</th>\n",
       "      <th>is_weekend_1</th>\n",
       "      <th>start_moment_afternoon</th>\n",
       "      <th>start_moment_evening</th>\n",
       "      <th>start_moment_morning</th>\n",
       "      <th>start_moment_night</th>\n",
       "      <th>is_circle_trip_0</th>\n",
       "      <th>is_circle_trip_1</th>\n",
       "    </tr>\n",
       "  </thead>\n",
       "  <tbody>\n",
       "    <tr>\n",
       "      <th>0</th>\n",
       "      <td>1338</td>\n",
       "      <td>40.727103</td>\n",
       "      <td>-74.002971</td>\n",
       "      <td>40.759291</td>\n",
       "      <td>-73.988597</td>\n",
       "      <td>Subscriber</td>\n",
       "      <td>1</td>\n",
       "      <td>3.778532</td>\n",
       "      <td>10.166454</td>\n",
       "      <td>0</td>\n",
       "      <td>...</td>\n",
       "      <td>0</td>\n",
       "      <td>0</td>\n",
       "      <td>1</td>\n",
       "      <td>0</td>\n",
       "      <td>0</td>\n",
       "      <td>0</td>\n",
       "      <td>0</td>\n",
       "      <td>1</td>\n",
       "      <td>1</td>\n",
       "      <td>0</td>\n",
       "    </tr>\n",
       "    <tr>\n",
       "      <th>1</th>\n",
       "      <td>290</td>\n",
       "      <td>40.727791</td>\n",
       "      <td>-73.985649</td>\n",
       "      <td>40.722055</td>\n",
       "      <td>-73.989111</td>\n",
       "      <td>Subscriber</td>\n",
       "      <td>1</td>\n",
       "      <td>0.701381</td>\n",
       "      <td>8.706796</td>\n",
       "      <td>0</td>\n",
       "      <td>...</td>\n",
       "      <td>0</td>\n",
       "      <td>0</td>\n",
       "      <td>1</td>\n",
       "      <td>0</td>\n",
       "      <td>0</td>\n",
       "      <td>0</td>\n",
       "      <td>0</td>\n",
       "      <td>1</td>\n",
       "      <td>1</td>\n",
       "      <td>0</td>\n",
       "    </tr>\n",
       "    <tr>\n",
       "      <th>2</th>\n",
       "      <td>634</td>\n",
       "      <td>40.735238</td>\n",
       "      <td>-74.000271</td>\n",
       "      <td>40.749718</td>\n",
       "      <td>-74.002950</td>\n",
       "      <td>Subscriber</td>\n",
       "      <td>1</td>\n",
       "      <td>1.625823</td>\n",
       "      <td>9.231803</td>\n",
       "      <td>0</td>\n",
       "      <td>...</td>\n",
       "      <td>0</td>\n",
       "      <td>0</td>\n",
       "      <td>1</td>\n",
       "      <td>0</td>\n",
       "      <td>0</td>\n",
       "      <td>0</td>\n",
       "      <td>0</td>\n",
       "      <td>1</td>\n",
       "      <td>1</td>\n",
       "      <td>0</td>\n",
       "    </tr>\n",
       "    <tr>\n",
       "      <th>3</th>\n",
       "      <td>159</td>\n",
       "      <td>40.716059</td>\n",
       "      <td>-73.991908</td>\n",
       "      <td>40.718939</td>\n",
       "      <td>-73.992663</td>\n",
       "      <td>Subscriber</td>\n",
       "      <td>1</td>\n",
       "      <td>0.326548</td>\n",
       "      <td>7.393548</td>\n",
       "      <td>0</td>\n",
       "      <td>...</td>\n",
       "      <td>0</td>\n",
       "      <td>0</td>\n",
       "      <td>1</td>\n",
       "      <td>0</td>\n",
       "      <td>0</td>\n",
       "      <td>0</td>\n",
       "      <td>0</td>\n",
       "      <td>1</td>\n",
       "      <td>1</td>\n",
       "      <td>0</td>\n",
       "    </tr>\n",
       "    <tr>\n",
       "      <th>4</th>\n",
       "      <td>1233</td>\n",
       "      <td>40.734927</td>\n",
       "      <td>-73.992005</td>\n",
       "      <td>40.710451</td>\n",
       "      <td>-73.960876</td>\n",
       "      <td>Customer</td>\n",
       "      <td>1</td>\n",
       "      <td>3.780067</td>\n",
       "      <td>11.036692</td>\n",
       "      <td>0</td>\n",
       "      <td>...</td>\n",
       "      <td>0</td>\n",
       "      <td>0</td>\n",
       "      <td>1</td>\n",
       "      <td>0</td>\n",
       "      <td>0</td>\n",
       "      <td>0</td>\n",
       "      <td>0</td>\n",
       "      <td>1</td>\n",
       "      <td>1</td>\n",
       "      <td>0</td>\n",
       "    </tr>\n",
       "  </tbody>\n",
       "</table>\n",
       "<p>5 rows × 24 columns</p>\n",
       "</div>"
      ],
      "text/plain": [
       "   tripduration  start station latitude  start station longitude  \\\n",
       "0          1338               40.727103               -74.002971   \n",
       "1           290               40.727791               -73.985649   \n",
       "2           634               40.735238               -74.000271   \n",
       "3           159               40.716059               -73.991908   \n",
       "4          1233               40.734927               -73.992005   \n",
       "\n",
       "   end station latitude  end station longitude    usertype  june_day  \\\n",
       "0             40.759291             -73.988597  Subscriber         1   \n",
       "1             40.722055             -73.989111  Subscriber         1   \n",
       "2             40.749718             -74.002950  Subscriber         1   \n",
       "3             40.718939             -73.992663  Subscriber         1   \n",
       "4             40.710451             -73.960876    Customer         1   \n",
       "\n",
       "   traveled_distance  average_speed  start_day_Friday  ...  start_day_Tuesday  \\\n",
       "0           3.778532      10.166454                 0  ...                  0   \n",
       "1           0.701381       8.706796                 0  ...                  0   \n",
       "2           1.625823       9.231803                 0  ...                  0   \n",
       "3           0.326548       7.393548                 0  ...                  0   \n",
       "4           3.780067      11.036692                 0  ...                  0   \n",
       "\n",
       "   start_day_Wednesday  is_weekend_0  is_weekend_1  start_moment_afternoon  \\\n",
       "0                    0             1             0                       0   \n",
       "1                    0             1             0                       0   \n",
       "2                    0             1             0                       0   \n",
       "3                    0             1             0                       0   \n",
       "4                    0             1             0                       0   \n",
       "\n",
       "   start_moment_evening  start_moment_morning  start_moment_night  \\\n",
       "0                     0                     0                   1   \n",
       "1                     0                     0                   1   \n",
       "2                     0                     0                   1   \n",
       "3                     0                     0                   1   \n",
       "4                     0                     0                   1   \n",
       "\n",
       "   is_circle_trip_0  is_circle_trip_1  \n",
       "0                 1                 0  \n",
       "1                 1                 0  \n",
       "2                 1                 0  \n",
       "3                 1                 0  \n",
       "4                 1                 0  \n",
       "\n",
       "[5 rows x 24 columns]"
      ]
     },
     "execution_count": 22,
     "metadata": {},
     "output_type": "execute_result"
    }
   ],
   "source": [
    "data.head()"
   ]
  },
  {
   "cell_type": "code",
   "execution_count": 23,
   "metadata": {},
   "outputs": [],
   "source": [
    "data.to_csv('input_data_for_modeling_purpose.csv', index = False) # we will use this data for the next session - model improvement"
   ]
  },
  {
   "cell_type": "markdown",
   "metadata": {},
   "source": [
    "### <font color='red'>3.3) Run the following block. It builds arrays for the features, as well as the labels. Features will be used to predict the labels. Study their structures.</font>"
   ]
  },
  {
   "cell_type": "code",
   "execution_count": 24,
   "metadata": {
    "jupyter": {
     "outputs_hidden": false
    }
   },
   "outputs": [],
   "source": [
    "labels = np.array(data.usertype)\n",
    "del data['usertype']\n",
    "features = np.array(data)"
   ]
  },
  {
   "cell_type": "code",
   "execution_count": 25,
   "metadata": {
    "jupyter": {
     "outputs_hidden": false
    }
   },
   "outputs": [
    {
     "data": {
      "text/plain": [
       "array(['Subscriber', 'Subscriber', 'Subscriber', ..., 'Customer',\n",
       "       'Subscriber', 'Subscriber'], dtype=object)"
      ]
     },
     "execution_count": 25,
     "metadata": {},
     "output_type": "execute_result"
    }
   ],
   "source": [
    "#### Study the structure of features and labels ####\n",
    "labels"
   ]
  },
  {
   "cell_type": "code",
   "execution_count": 26,
   "metadata": {
    "jupyter": {
     "outputs_hidden": false
    }
   },
   "outputs": [
    {
     "data": {
      "text/plain": [
       "array([[ 1.33800000e+03,  4.07271026e+01, -7.40029709e+01, ...,\n",
       "         1.00000000e+00,  1.00000000e+00,  0.00000000e+00],\n",
       "       [ 2.90000000e+02,  4.07277913e+01, -7.39856494e+01, ...,\n",
       "         1.00000000e+00,  1.00000000e+00,  0.00000000e+00],\n",
       "       [ 6.34000000e+02,  4.07352380e+01, -7.40002710e+01, ...,\n",
       "         1.00000000e+00,  1.00000000e+00,  0.00000000e+00],\n",
       "       ...,\n",
       "       [ 3.55700000e+03,  4.07545573e+01, -7.39659298e+01, ...,\n",
       "         1.00000000e+00,  1.00000000e+00,  0.00000000e+00],\n",
       "       [ 8.19000000e+02,  4.07206644e+01, -7.39851798e+01, ...,\n",
       "         1.00000000e+00,  1.00000000e+00,  0.00000000e+00],\n",
       "       [ 6.67000000e+02,  4.07130792e+01, -7.39985119e+01, ...,\n",
       "         1.00000000e+00,  1.00000000e+00,  0.00000000e+00]])"
      ]
     },
     "execution_count": 26,
     "metadata": {},
     "output_type": "execute_result"
    }
   ],
   "source": [
    "features"
   ]
  },
  {
   "cell_type": "markdown",
   "metadata": {},
   "source": [
    "### <font color='red'>3.4) How many observations/features do we have to make our models ? You can use the <i>.shape</i> attribute of features, and labels</font>"
   ]
  },
  {
   "cell_type": "code",
   "execution_count": 27,
   "metadata": {
    "jupyter": {
     "outputs_hidden": false
    }
   },
   "outputs": [
    {
     "data": {
      "text/plain": [
       "(935588, 23)"
      ]
     },
     "execution_count": 27,
     "metadata": {},
     "output_type": "execute_result"
    }
   ],
   "source": [
    "features.shape"
   ]
  },
  {
   "cell_type": "markdown",
   "metadata": {},
   "source": [
    "### <font color='red'>3.5) Import the scikit-learn package (called <i>sklearn</i>), that will be used for running machine learning algorithms</font>"
   ]
  },
  {
   "cell_type": "code",
   "execution_count": 28,
   "metadata": {},
   "outputs": [],
   "source": [
    "#### IMPORT THE SCIKIT-LEARN PACKAGE ####\n",
    "import sklearn"
   ]
  },
  {
   "cell_type": "markdown",
   "metadata": {},
   "source": [
    "### <font color='red'>3.6) Binarize the labels of the dataset. You can use the following webpage:</font>\n",
    "- http://scikit-learn.org/stable/modules/generated/sklearn.preprocessing.label_binarize.html"
   ]
  },
  {
   "cell_type": "code",
   "execution_count": 29,
   "metadata": {},
   "outputs": [],
   "source": [
    "from sklearn.preprocessing import label_binarize\n",
    "binarized_labels = label_binarize(labels, classes=['Customer', 'Subscriber']).ravel() \n",
    "#### BINARIZE THE LABELS OF THE DATASET, AND RAVEL THE RESULT USING .ravel() ####\n",
    "                   #### Subscriber will be label 1, Customer label 0 ####\n",
    "                   #### This will be a binary classifiation problem ####"
   ]
  },
  {
   "cell_type": "markdown",
   "metadata": {},
   "source": [
    "### <font color='red'>3.7) Show the binarized labels</font>"
   ]
  },
  {
   "cell_type": "code",
   "execution_count": 30,
   "metadata": {
    "jupyter": {
     "outputs_hidden": false
    }
   },
   "outputs": [
    {
     "data": {
      "text/plain": [
       "array([1, 1, 1, ..., 0, 1, 1])"
      ]
     },
     "execution_count": 30,
     "metadata": {},
     "output_type": "execute_result"
    }
   ],
   "source": [
    "binarized_labels"
   ]
  },
  {
   "cell_type": "markdown",
   "metadata": {},
   "source": [
    "### Split training and testing sets"
   ]
  },
  {
   "cell_type": "markdown",
   "metadata": {},
   "source": [
    "### <font color='red'>3.8) Split your dataset between a training and testing set (of size 30%). You can use the following webpage:</font>\n",
    "- https://scikit-learn.org/stable/modules/generated/sklearn.model_selection.train_test_split.html"
   ]
  },
  {
   "cell_type": "code",
   "execution_count": 31,
   "metadata": {},
   "outputs": [],
   "source": [
    "from sklearn.model_selection import train_test_split\n",
    "X_train, X_test, y_train, y_test = train_test_split(features, binarized_labels, test_size=0.3, random_state = 27)\n",
    "#### SPLIT BETWEEN TRAIN AND TEST ####"
   ]
  },
  {
   "cell_type": "markdown",
   "metadata": {},
   "source": [
    "### <font color='red'>3.9) Show the results of your split</font>"
   ]
  },
  {
   "cell_type": "code",
   "execution_count": 32,
   "metadata": {
    "jupyter": {
     "outputs_hidden": false
    }
   },
   "outputs": [
    {
     "data": {
      "text/plain": [
       "array([[ 6.64000000e+02,  4.07419514e+01, -7.40080301e+01, ...,\n",
       "         0.00000000e+00,  1.00000000e+00,  0.00000000e+00],\n",
       "       [ 6.45000000e+02,  4.07469196e+01, -7.40045189e+01, ...,\n",
       "         0.00000000e+00,  1.00000000e+00,  0.00000000e+00],\n",
       "       [ 4.68000000e+02,  4.07218158e+01, -7.39972031e+01, ...,\n",
       "         0.00000000e+00,  1.00000000e+00,  0.00000000e+00],\n",
       "       ...,\n",
       "       [ 1.99000000e+02,  4.07352428e+01, -7.39875856e+01, ...,\n",
       "         0.00000000e+00,  1.00000000e+00,  0.00000000e+00],\n",
       "       [ 3.38000000e+02,  4.07550025e+01, -7.39801444e+01, ...,\n",
       "         0.00000000e+00,  1.00000000e+00,  0.00000000e+00],\n",
       "       [ 1.22600000e+03,  4.07603010e+01, -7.39988422e+01, ...,\n",
       "         0.00000000e+00,  1.00000000e+00,  0.00000000e+00]])"
      ]
     },
     "execution_count": 32,
     "metadata": {},
     "output_type": "execute_result"
    }
   ],
   "source": [
    "#### Show samples of X_train, X_test, y_train, y_test ####\n",
    "X_train"
   ]
  },
  {
   "cell_type": "code",
   "execution_count": 33,
   "metadata": {
    "jupyter": {
     "outputs_hidden": false
    }
   },
   "outputs": [
    {
     "data": {
      "text/plain": [
       "array([1, 1, 1, ..., 1, 1, 1])"
      ]
     },
     "execution_count": 33,
     "metadata": {},
     "output_type": "execute_result"
    }
   ],
   "source": [
    "y_train"
   ]
  },
  {
   "cell_type": "markdown",
   "metadata": {},
   "source": [
    "### Random Forest classifier"
   ]
  },
  {
   "cell_type": "markdown",
   "metadata": {},
   "source": [
    "### <font color='red'>3.10) Go to the following webpages to understand how to compute cross-validation scores of a Random Forest classifier in Python, on the training set:</font>\n",
    "- http://scikit-learn.org/stable/modules/generated/sklearn.ensemble.RandomForestClassifier.html\n",
    "- http://scikit-learn.org/stable/modules/generated/sklearn.cross_validation.cross_val_score.html#sklearn.cross_validation.cross_val_score"
   ]
  },
  {
   "cell_type": "code",
   "execution_count": 34,
   "metadata": {},
   "outputs": [],
   "source": [
    "from sklearn.ensemble import RandomForestClassifier\n",
    "rf = RandomForestClassifier(n_estimators = 10)\n",
    "rf2 = RandomForestClassifier(n_estimators = 50)\n",
    "rf3 = RandomForestClassifier(n_estimators = 100)\n",
    "#### DEFINE A RANDOM FOREST CLASSIFIER ####"
   ]
  },
  {
   "cell_type": "markdown",
   "metadata": {},
   "source": [
    "### Model Evaluation"
   ]
  },
  {
   "cell_type": "markdown",
   "metadata": {},
   "source": [
    "### <font color='red'>Run the following block. It will compute a 3-fold cross-validation score using the </font><b>AUC scoring metric</b>,  <font color='red'>as explained in the slides</font>"
   ]
  },
  {
   "cell_type": "code",
   "execution_count": 35,
   "metadata": {
    "jupyter": {
     "outputs_hidden": false
    }
   },
   "outputs": [
    {
     "data": {
      "text/plain": [
       "array([0.8294619 , 0.83054897, 0.82876174])"
      ]
     },
     "execution_count": 35,
     "metadata": {},
     "output_type": "execute_result"
    }
   ],
   "source": [
    "from sklearn.model_selection import cross_val_score\n",
    "cross_val_score(rf, X_train, y_train, scoring='roc_auc', cv=3)"
   ]
  },
  {
   "cell_type": "markdown",
   "metadata": {},
   "source": [
    "## 4) Final fit and plots <font color='blue'> (20 min) </font>"
   ]
  },
  {
   "cell_type": "markdown",
   "metadata": {},
   "source": [
    "### <font color='red'>4.1) Define a random forest classifier, and fit it on the training set. You can return on:</font>\n",
    "- http://scikit-learn.org/stable/modules/generated/sklearn.ensemble.RandomForestClassifier.html"
   ]
  },
  {
   "cell_type": "code",
   "execution_count": 36,
   "metadata": {
    "jupyter": {
     "outputs_hidden": false
    }
   },
   "outputs": [
    {
     "data": {
      "text/plain": [
       "RandomForestClassifier(n_estimators=10)"
      ]
     },
     "execution_count": 36,
     "metadata": {},
     "output_type": "execute_result"
    }
   ],
   "source": [
    "rf = RandomForestClassifier(n_estimators = 10)\n",
    "#### DEFINE A RANDOM FOREST CLASSIFIER ####\n",
    "\n",
    "rf.fit(X_train, y_train)\n",
    "#### FIT THE RANDOM FOREST CLASSIFIER ON THE TRAINING SET ####"
   ]
  },
  {
   "cell_type": "markdown",
   "metadata": {},
   "source": [
    "### <font color='red'>4.2) Show (and if you can, plot!) the features importances using the <i>.feature_importances</i> attribute of your classifier. You can get hints on the following page:</font>\n",
    "- http://scikit-learn.org/stable/auto_examples/ensemble/plot_gradient_boosting_regression.html"
   ]
  },
  {
   "cell_type": "code",
   "execution_count": 37,
   "metadata": {
    "jupyter": {
     "outputs_hidden": false
    }
   },
   "outputs": [
    {
     "data": {
      "image/png": "[encoded data removed]",
      "text/plain": [
       "<Figure size 1440x720 with 1 Axes>"
      ]
     },
     "metadata": {},
     "output_type": "display_data"
    }
   ],
   "source": [
    "#### PLOT THE FEATURES IMPORTANCES WITH RESPECT TO THE RANDOM FOREST ####\n",
    "feature_importance = rf.feature_importances_\n",
    "# make importances relative to max importance\n",
    "feature_importance = 100.0 * (feature_importance / feature_importance.max())\n",
    "sorted_idx = np.argsort(feature_importance)\n",
    "pos = np.arange(sorted_idx.shape[0]) + .5\n",
    "plt.figure(figsize=[20,10])\n",
    "plt.subplot(1, 2, 2)\n",
    "plt.barh(pos, feature_importance[sorted_idx], align='center')\n",
    "#plt.text(pos, feature_importance[sorted_idx])\n",
    "#g = plt.barh(pos, feature_importance[sorted_idx], align='center')\n",
    "#for p in g.pathces:\n",
    "#    plt.text(p.get_x(), p.get_width()+1, p.get_width())\n",
    "plt.yticks(pos, data.columns.values[sorted_idx])\n",
    "plt.xlabel('Relative Importance')\n",
    "plt.title('Variable Importance')\n",
    "plt.show()"
   ]
  },
  {
   "cell_type": "markdown",
   "metadata": {},
   "source": [
    "### <font color='red'>4.3) Run this block to get the final performance on test set, using <i>roc_auc_score</i></font>"
   ]
  },
  {
   "cell_type": "code",
   "execution_count": 38,
   "metadata": {
    "jupyter": {
     "outputs_hidden": false
    }
   },
   "outputs": [
    {
     "name": "stdout",
     "output_type": "stream",
     "text": [
      "Final AUC score on test set : 0.84\n"
     ]
    }
   ],
   "source": [
    "from sklearn.metrics import roc_auc_score\n",
    "\n",
    "y_predict_test = rf.predict_proba(X_test)[:,1]\n",
    "print('Final AUC score on test set : {:.2f}'.format(roc_auc_score(y_test, y_predict_test)))"
   ]
  },
  {
   "cell_type": "markdown",
   "metadata": {},
   "source": [
    "### <font color='red'>4.4) Using <i>seaborn.distplot</i>, plot the distribution of trip durations with respect to user type (whether \"Subscriber\" or \"Customer\")</font>"
   ]
  },
  {
   "cell_type": "code",
   "execution_count": 39,
   "metadata": {
    "jupyter": {
     "outputs_hidden": false
    }
   },
   "outputs": [
    {
     "data": {
      "text/plain": [
       "Text(0.5, 1.0, 'Distribution of Trip Durations')"
      ]
     },
     "execution_count": 39,
     "metadata": {},
     "output_type": "execute_result"
    },
    {
     "data": {
      "image/png": "[encoded data removed]",
      "text/plain": [
       "<Figure size 1440x720 with 1 Axes>"
      ]
     },
     "metadata": {},
     "output_type": "display_data"
    }
   ],
   "source": [
    "#### PLOT THE DISTRIBUTION OF TRIP DURATIONS WITH RESPECT TO USER TYPES BY USING APPROPRIATE SLICES ON RAW_DATA ####\n",
    "data2 = raw_data.copy()\n",
    "#data2.columns.values\n",
    "#data2[data2['usertype']=='Subscriber']\n",
    "plt.figure(figsize=[20,10])\n",
    "sns.distplot(data2[data2['usertype']=='Subscriber']['tripduration'], color = 'blue', label = 'Subscriber')\n",
    "sns.distplot(data2[data2['usertype']=='Customer']['tripduration'], color = 'gold', label = 'Customer')\n",
    "plt.legend(loc = 'upper right')\n",
    "plt.title('Distribution of Trip Durations', size = 20)\n",
    "\n",
    "#### ADD X,Y LABELS, A TITLE, AND A LEGEND TO THIS PLOT ####"
   ]
  },
  {
   "cell_type": "markdown",
   "metadata": {},
   "source": [
    "### <font color='red'>4.5) Using <i>seaborn.distplot</i>, plot the distribution of average speed with respect to user type (whether \"Subscriber\" or \"Customer\")</font>"
   ]
  },
  {
   "cell_type": "code",
   "execution_count": 40,
   "metadata": {
    "jupyter": {
     "outputs_hidden": false
    },
    "scrolled": false
   },
   "outputs": [
    {
     "data": {
      "text/plain": [
       "Text(0.5, 1.0, 'Distribution of Average Speed')"
      ]
     },
     "execution_count": 40,
     "metadata": {},
     "output_type": "execute_result"
    },
    {
     "data": {
      "image/png": "[encoded data removed]",
      "text/plain": [
       "<Figure size 1440x720 with 1 Axes>"
      ]
     },
     "metadata": {},
     "output_type": "display_data"
    }
   ],
   "source": [
    "#### PLOT THE DISTRIBUTION OF AVERAGE SPEEDS WITH RESPECT TO USER TYPES BY USING APPROPRIATE SLICES ON RAW_DATA ####\n",
    "#data2['average_speed'] = data['average_speed']\n",
    "plt.figure(figsize=[20,10])\n",
    "sns.distplot(data2[data2['usertype']=='Subscriber']['average_speed'], color = 'blue', label = 'Subscriber')\n",
    "sns.distplot(data2[data2['usertype']=='Customer']['average_speed'], color = 'gold', label = 'Customer')\n",
    "plt.legend(loc = 'upper right')\n",
    "plt.title('Distribution of Average Speed', size = 20)"
   ]
  },
  {
   "cell_type": "markdown",
   "metadata": {},
   "source": [
    "### <font color='red'>4.6) Run the following block to understand how fine-tuning parameters can help improve the performance of your models. Warning : this will take some time to run !</font>"
   ]
  },
  {
   "cell_type": "code",
   "execution_count": 41,
   "metadata": {
    "jupyter": {
     "outputs_hidden": false
    }
   },
   "outputs": [
    {
     "data": {
      "text/plain": [
       "array([0.8653744 , 0.86896126, 0.8667041 , 0.86307727, 0.86457335])"
      ]
     },
     "execution_count": 41,
     "metadata": {},
     "output_type": "execute_result"
    }
   ],
   "source": [
    "rf = RandomForestClassifier(max_depth=20,max_features=10,n_estimators=50)\n",
    "cross_val_score(rf, X_train, y_train, scoring='roc_auc')"
   ]
  },
  {
   "cell_type": "markdown",
   "metadata": {},
   "source": [
    "FRISKA ANDALUSIA-UNIVERSITAS TELKOM"
   ]
  }
 ],
 "metadata": {
  "kernelspec": {
   "display_name": "Python 3",
   "language": "python",
   "name": "python3"
  },
  "language_info": {
   "codemirror_mode": {
    "name": "ipython",
    "version": 3
   },
   "file_extension": ".py",
   "mimetype": "text/x-python",
   "name": "python",
   "nbconvert_exporter": "python",
   "pygments_lexer": "ipython3",
   "version": "3.8.8"
  }
 },
 "nbformat": 4,
 "nbformat_minor": 4
}
