{
 "cells": [
  {
   "cell_type": "markdown",
   "metadata": {},
   "source": [
    "# Introduction to Feature Engineering <font color='blue'></font>"
   ]
  },
  {
   "cell_type": "markdown",
   "metadata": {},
   "source": [
    "# 0) Importing the right tools <font color='blue'> (5 min) </font>"
   ]
  },
  {
   "cell_type": "markdown",
   "metadata": {},
   "source": [
    "### <font color='red'>0.1) Import the necessary packages: </font>\n",
    "\n",
    "- pandas (aliased as pd)\n",
    "- numpy (aliased as np)\n",
    "- seaborn (aliased as sns)\n",
    "- matplotlib.pyplot (aliased as plt)"
   ]
  },
  {
   "cell_type": "code",
   "execution_count": 1,
   "metadata": {
    "collapsed": false,
    "jupyter": {
     "outputs_hidden": false
    }
   },
   "outputs": [
    {
     "name": "stdout",
     "output_type": "stream",
     "text": [
      "Populating the interactive namespace from numpy and matplotlib\n"
     ]
    }
   ],
   "source": [
    "from __future__ import division\n",
    "\n",
    "import warnings\n",
    "warnings.filterwarnings('ignore')\n",
    "\n",
    "#### IMPORT THE NECESSARY PACKAGES WITH THEIR ALIASES ####\n",
    "import pandas as pd\n",
    "import numpy as np\n",
    "import seaborn as sns\n",
    "import matplotlib.pyplot as plt\n",
    "\n",
    "\n",
    "%pylab inline "
   ]
  },
  {
   "cell_type": "markdown",
   "metadata": {},
   "source": [
    "### <font color='red'>0.2) Import the dataset from <i>'../data/my_data_after_simple_prep.csv'</i></font>"
   ]
  },
  {
   "cell_type": "markdown",
   "metadata": {},
   "source": [
    "### <font color='red'>0.3) Print samples of data so you are familiar with the data </font>"
   ]
  },
  {
   "cell_type": "markdown",
   "metadata": {},
   "source": [
    "## 1) Weekend, Weekday <font color='blue'> (20 min) </font>"
   ]
  },
  {
   "cell_type": "markdown",
   "metadata": {},
   "source": [
    "### Weekday"
   ]
  },
  {
   "cell_type": "markdown",
   "metadata": {},
   "source": [
    "### <font color='red'>1.1) Import the <i>calendar</i> package and get help on it </font>"
   ]
  },
  {
   "cell_type": "code",
   "execution_count": 4,
   "metadata": {},
   "outputs": [],
   "source": [
    "#### IMPORT THE PACKAGE ####\n",
    "import calendar"
   ]
  },
  {
   "cell_type": "code",
   "execution_count": 6,
   "metadata": {
    "collapsed": true,
    "jupyter": {
     "outputs_hidden": true
    }
   },
   "outputs": [
    {
     "name": "stdout",
     "output_type": "stream",
     "text": [
      "Help on module calendar:\n",
      "\n",
      "NAME\n",
      "    calendar - Calendar printing functions\n",
      "\n",
      "MODULE REFERENCE\n",
      "    https://docs.python.org/3.7/library/calendar\n",
      "    \n",
      "    The following documentation is automatically generated from the Python\n",
      "    source files.  It may be incomplete, incorrect or include features that\n",
      "    are considered implementation detail and may vary between Python\n",
      "    implementations.  When in doubt, consult the module reference at the\n",
      "    location listed above.\n",
      "\n",
      "DESCRIPTION\n",
      "    Note when comparing these calendars to the ones printed by cal(1): By\n",
      "    default, these calendars have Monday as the first day of the week, and\n",
      "    Sunday as the last (the European convention). Use setfirstweekday() to\n",
      "    set the first day of the week (0=Monday, 6=Sunday).\n",
      "\n",
      "CLASSES\n",
      "    builtins.ValueError(builtins.Exception)\n",
      "        IllegalMonthError\n",
      "        IllegalWeekdayError\n",
      "    builtins.object\n",
      "        Calendar\n",
      "            HTMLCalendar\n",
      "                LocaleHTMLCalendar\n",
      "            TextCalendar\n",
      "                LocaleTextCalendar\n",
      "    \n",
      "    class Calendar(builtins.object)\n",
      "     |  Calendar(firstweekday=0)\n",
      "     |  \n",
      "     |  Base calendar class. This class doesn't do any formatting. It simply\n",
      "     |  provides data to subclasses.\n",
      "     |  \n",
      "     |  Methods defined here:\n",
      "     |  \n",
      "     |  __init__(self, firstweekday=0)\n",
      "     |      Initialize self.  See help(type(self)) for accurate signature.\n",
      "     |  \n",
      "     |  getfirstweekday(self)\n",
      "     |  \n",
      "     |  itermonthdates(self, year, month)\n",
      "     |      Return an iterator for one month. The iterator will yield datetime.date\n",
      "     |      values and will always iterate through complete weeks, so it will yield\n",
      "     |      dates outside the specified month.\n",
      "     |  \n",
      "     |  itermonthdays(self, year, month)\n",
      "     |      Like itermonthdates(), but will yield day numbers. For days outside\n",
      "     |      the specified month the day number is 0.\n",
      "     |  \n",
      "     |  itermonthdays2(self, year, month)\n",
      "     |      Like itermonthdates(), but will yield (day number, weekday number)\n",
      "     |      tuples. For days outside the specified month the day number is 0.\n",
      "     |  \n",
      "     |  itermonthdays3(self, year, month)\n",
      "     |      Like itermonthdates(), but will yield (year, month, day) tuples.  Can be\n",
      "     |      used for dates outside of datetime.date range.\n",
      "     |  \n",
      "     |  itermonthdays4(self, year, month)\n",
      "     |      Like itermonthdates(), but will yield (year, month, day, day_of_week) tuples.\n",
      "     |      Can be used for dates outside of datetime.date range.\n",
      "     |  \n",
      "     |  iterweekdays(self)\n",
      "     |      Return an iterator for one week of weekday numbers starting with the\n",
      "     |      configured first one.\n",
      "     |  \n",
      "     |  monthdatescalendar(self, year, month)\n",
      "     |      Return a matrix (list of lists) representing a month's calendar.\n",
      "     |      Each row represents a week; week entries are datetime.date values.\n",
      "     |  \n",
      "     |  monthdays2calendar(self, year, month)\n",
      "     |      Return a matrix representing a month's calendar.\n",
      "     |      Each row represents a week; week entries are\n",
      "     |      (day number, weekday number) tuples. Day numbers outside this month\n",
      "     |      are zero.\n",
      "     |  \n",
      "     |  monthdayscalendar(self, year, month)\n",
      "     |      Return a matrix representing a month's calendar.\n",
      "     |      Each row represents a week; days outside this month are zero.\n",
      "     |  \n",
      "     |  setfirstweekday(self, firstweekday)\n",
      "     |  \n",
      "     |  yeardatescalendar(self, year, width=3)\n",
      "     |      Return the data for the specified year ready for formatting. The return\n",
      "     |      value is a list of month rows. Each month row contains up to width months.\n",
      "     |      Each month contains between 4 and 6 weeks and each week contains 1-7\n",
      "     |      days. Days are datetime.date objects.\n",
      "     |  \n",
      "     |  yeardays2calendar(self, year, width=3)\n",
      "     |      Return the data for the specified year ready for formatting (similar to\n",
      "     |      yeardatescalendar()). Entries in the week lists are\n",
      "     |      (day number, weekday number) tuples. Day numbers outside this month are\n",
      "     |      zero.\n",
      "     |  \n",
      "     |  yeardayscalendar(self, year, width=3)\n",
      "     |      Return the data for the specified year ready for formatting (similar to\n",
      "     |      yeardatescalendar()). Entries in the week lists are day numbers.\n",
      "     |      Day numbers outside this month are zero.\n",
      "     |  \n",
      "     |  ----------------------------------------------------------------------\n",
      "     |  Data descriptors defined here:\n",
      "     |  \n",
      "     |  __dict__\n",
      "     |      dictionary for instance variables (if defined)\n",
      "     |  \n",
      "     |  __weakref__\n",
      "     |      list of weak references to the object (if defined)\n",
      "     |  \n",
      "     |  firstweekday\n",
      "    \n",
      "    class HTMLCalendar(Calendar)\n",
      "     |  HTMLCalendar(firstweekday=0)\n",
      "     |  \n",
      "     |  This calendar returns complete HTML pages.\n",
      "     |  \n",
      "     |  Method resolution order:\n",
      "     |      HTMLCalendar\n",
      "     |      Calendar\n",
      "     |      builtins.object\n",
      "     |  \n",
      "     |  Methods defined here:\n",
      "     |  \n",
      "     |  formatday(self, day, weekday)\n",
      "     |      Return a day as a table cell.\n",
      "     |  \n",
      "     |  formatmonth(self, theyear, themonth, withyear=True)\n",
      "     |      Return a formatted month as a table.\n",
      "     |  \n",
      "     |  formatmonthname(self, theyear, themonth, withyear=True)\n",
      "     |      Return a month name as a table row.\n",
      "     |  \n",
      "     |  formatweek(self, theweek)\n",
      "     |      Return a complete week as a table row.\n",
      "     |  \n",
      "     |  formatweekday(self, day)\n",
      "     |      Return a weekday name as a table header.\n",
      "     |  \n",
      "     |  formatweekheader(self)\n",
      "     |      Return a header for a week as a table row.\n",
      "     |  \n",
      "     |  formatyear(self, theyear, width=3)\n",
      "     |      Return a formatted year as a table of tables.\n",
      "     |  \n",
      "     |  formatyearpage(self, theyear, width=3, css='calendar.css', encoding=None)\n",
      "     |      Return a formatted year as a complete HTML page.\n",
      "     |  \n",
      "     |  ----------------------------------------------------------------------\n",
      "     |  Data and other attributes defined here:\n",
      "     |  \n",
      "     |  cssclass_month = 'month'\n",
      "     |  \n",
      "     |  cssclass_month_head = 'month'\n",
      "     |  \n",
      "     |  cssclass_noday = 'noday'\n",
      "     |  \n",
      "     |  cssclass_year = 'year'\n",
      "     |  \n",
      "     |  cssclass_year_head = 'year'\n",
      "     |  \n",
      "     |  cssclasses = ['mon', 'tue', 'wed', 'thu', 'fri', 'sat', 'sun']\n",
      "     |  \n",
      "     |  cssclasses_weekday_head = ['mon', 'tue', 'wed', 'thu', 'fri', 'sat', '...\n",
      "     |  \n",
      "     |  ----------------------------------------------------------------------\n",
      "     |  Methods inherited from Calendar:\n",
      "     |  \n",
      "     |  __init__(self, firstweekday=0)\n",
      "     |      Initialize self.  See help(type(self)) for accurate signature.\n",
      "     |  \n",
      "     |  getfirstweekday(self)\n",
      "     |  \n",
      "     |  itermonthdates(self, year, month)\n",
      "     |      Return an iterator for one month. The iterator will yield datetime.date\n",
      "     |      values and will always iterate through complete weeks, so it will yield\n",
      "     |      dates outside the specified month.\n",
      "     |  \n",
      "     |  itermonthdays(self, year, month)\n",
      "     |      Like itermonthdates(), but will yield day numbers. For days outside\n",
      "     |      the specified month the day number is 0.\n",
      "     |  \n",
      "     |  itermonthdays2(self, year, month)\n",
      "     |      Like itermonthdates(), but will yield (day number, weekday number)\n",
      "     |      tuples. For days outside the specified month the day number is 0.\n",
      "     |  \n",
      "     |  itermonthdays3(self, year, month)\n",
      "     |      Like itermonthdates(), but will yield (year, month, day) tuples.  Can be\n",
      "     |      used for dates outside of datetime.date range.\n",
      "     |  \n",
      "     |  itermonthdays4(self, year, month)\n",
      "     |      Like itermonthdates(), but will yield (year, month, day, day_of_week) tuples.\n",
      "     |      Can be used for dates outside of datetime.date range.\n",
      "     |  \n",
      "     |  iterweekdays(self)\n",
      "     |      Return an iterator for one week of weekday numbers starting with the\n",
      "     |      configured first one.\n",
      "     |  \n",
      "     |  monthdatescalendar(self, year, month)\n",
      "     |      Return a matrix (list of lists) representing a month's calendar.\n",
      "     |      Each row represents a week; week entries are datetime.date values.\n",
      "     |  \n",
      "     |  monthdays2calendar(self, year, month)\n",
      "     |      Return a matrix representing a month's calendar.\n",
      "     |      Each row represents a week; week entries are\n",
      "     |      (day number, weekday number) tuples. Day numbers outside this month\n",
      "     |      are zero.\n",
      "     |  \n",
      "     |  monthdayscalendar(self, year, month)\n",
      "     |      Return a matrix representing a month's calendar.\n",
      "     |      Each row represents a week; days outside this month are zero.\n",
      "     |  \n",
      "     |  setfirstweekday(self, firstweekday)\n",
      "     |  \n",
      "     |  yeardatescalendar(self, year, width=3)\n",
      "     |      Return the data for the specified year ready for formatting. The return\n",
      "     |      value is a list of month rows. Each month row contains up to width months.\n",
      "     |      Each month contains between 4 and 6 weeks and each week contains 1-7\n",
      "     |      days. Days are datetime.date objects.\n",
      "     |  \n",
      "     |  yeardays2calendar(self, year, width=3)\n",
      "     |      Return the data for the specified year ready for formatting (similar to\n",
      "     |      yeardatescalendar()). Entries in the week lists are\n",
      "     |      (day number, weekday number) tuples. Day numbers outside this month are\n",
      "     |      zero.\n",
      "     |  \n",
      "     |  yeardayscalendar(self, year, width=3)\n",
      "     |      Return the data for the specified year ready for formatting (similar to\n",
      "     |      yeardatescalendar()). Entries in the week lists are day numbers.\n",
      "     |      Day numbers outside this month are zero.\n",
      "     |  \n",
      "     |  ----------------------------------------------------------------------\n",
      "     |  Data descriptors inherited from Calendar:\n",
      "     |  \n",
      "     |  __dict__\n",
      "     |      dictionary for instance variables (if defined)\n",
      "     |  \n",
      "     |  __weakref__\n",
      "     |      list of weak references to the object (if defined)\n",
      "     |  \n",
      "     |  firstweekday\n",
      "    \n",
      "    class IllegalMonthError(builtins.ValueError)\n",
      "     |  IllegalMonthError(month)\n",
      "     |  \n",
      "     |  Inappropriate argument value (of correct type).\n",
      "     |  \n",
      "     |  Method resolution order:\n",
      "     |      IllegalMonthError\n",
      "     |      builtins.ValueError\n",
      "     |      builtins.Exception\n",
      "     |      builtins.BaseException\n",
      "     |      builtins.object\n",
      "     |  \n",
      "     |  Methods defined here:\n",
      "     |  \n",
      "     |  __init__(self, month)\n",
      "     |      Initialize self.  See help(type(self)) for accurate signature.\n",
      "     |  \n",
      "     |  __str__(self)\n",
      "     |      Return str(self).\n",
      "     |  \n",
      "     |  ----------------------------------------------------------------------\n",
      "     |  Data descriptors defined here:\n",
      "     |  \n",
      "     |  __weakref__\n",
      "     |      list of weak references to the object (if defined)\n",
      "     |  \n",
      "     |  ----------------------------------------------------------------------\n",
      "     |  Static methods inherited from builtins.ValueError:\n",
      "     |  \n",
      "     |  __new__(*args, **kwargs) from builtins.type\n",
      "     |      Create and return a new object.  See help(type) for accurate signature.\n",
      "     |  \n",
      "     |  ----------------------------------------------------------------------\n",
      "     |  Methods inherited from builtins.BaseException:\n",
      "     |  \n",
      "     |  __delattr__(self, name, /)\n",
      "     |      Implement delattr(self, name).\n",
      "     |  \n",
      "     |  __getattribute__(self, name, /)\n",
      "     |      Return getattr(self, name).\n",
      "     |  \n",
      "     |  __reduce__(...)\n",
      "     |      Helper for pickle.\n",
      "     |  \n",
      "     |  __repr__(self, /)\n",
      "     |      Return repr(self).\n",
      "     |  \n",
      "     |  __setattr__(self, name, value, /)\n",
      "     |      Implement setattr(self, name, value).\n",
      "     |  \n",
      "     |  __setstate__(...)\n",
      "     |  \n",
      "     |  with_traceback(...)\n",
      "     |      Exception.with_traceback(tb) --\n",
      "     |      set self.__traceback__ to tb and return self.\n",
      "     |  \n",
      "     |  ----------------------------------------------------------------------\n",
      "     |  Data descriptors inherited from builtins.BaseException:\n",
      "     |  \n",
      "     |  __cause__\n",
      "     |      exception cause\n",
      "     |  \n",
      "     |  __context__\n",
      "     |      exception context\n",
      "     |  \n",
      "     |  __dict__\n",
      "     |  \n",
      "     |  __suppress_context__\n",
      "     |  \n",
      "     |  __traceback__\n",
      "     |  \n",
      "     |  args\n",
      "    \n",
      "    class IllegalWeekdayError(builtins.ValueError)\n",
      "     |  IllegalWeekdayError(weekday)\n",
      "     |  \n",
      "     |  Inappropriate argument value (of correct type).\n",
      "     |  \n",
      "     |  Method resolution order:\n",
      "     |      IllegalWeekdayError\n",
      "     |      builtins.ValueError\n",
      "     |      builtins.Exception\n",
      "     |      builtins.BaseException\n",
      "     |      builtins.object\n",
      "     |  \n",
      "     |  Methods defined here:\n",
      "     |  \n",
      "     |  __init__(self, weekday)\n",
      "     |      Initialize self.  See help(type(self)) for accurate signature.\n",
      "     |  \n",
      "     |  __str__(self)\n",
      "     |      Return str(self).\n",
      "     |  \n",
      "     |  ----------------------------------------------------------------------\n",
      "     |  Data descriptors defined here:\n",
      "     |  \n",
      "     |  __weakref__\n",
      "     |      list of weak references to the object (if defined)\n",
      "     |  \n",
      "     |  ----------------------------------------------------------------------\n",
      "     |  Static methods inherited from builtins.ValueError:\n",
      "     |  \n",
      "     |  __new__(*args, **kwargs) from builtins.type\n",
      "     |      Create and return a new object.  See help(type) for accurate signature.\n",
      "     |  \n",
      "     |  ----------------------------------------------------------------------\n",
      "     |  Methods inherited from builtins.BaseException:\n",
      "     |  \n",
      "     |  __delattr__(self, name, /)\n",
      "     |      Implement delattr(self, name).\n",
      "     |  \n",
      "     |  __getattribute__(self, name, /)\n",
      "     |      Return getattr(self, name).\n",
      "     |  \n",
      "     |  __reduce__(...)\n",
      "     |      Helper for pickle.\n",
      "     |  \n",
      "     |  __repr__(self, /)\n",
      "     |      Return repr(self).\n",
      "     |  \n",
      "     |  __setattr__(self, name, value, /)\n",
      "     |      Implement setattr(self, name, value).\n",
      "     |  \n",
      "     |  __setstate__(...)\n",
      "     |  \n",
      "     |  with_traceback(...)\n",
      "     |      Exception.with_traceback(tb) --\n",
      "     |      set self.__traceback__ to tb and return self.\n",
      "     |  \n",
      "     |  ----------------------------------------------------------------------\n",
      "     |  Data descriptors inherited from builtins.BaseException:\n",
      "     |  \n",
      "     |  __cause__\n",
      "     |      exception cause\n",
      "     |  \n",
      "     |  __context__\n",
      "     |      exception context\n",
      "     |  \n",
      "     |  __dict__\n",
      "     |  \n",
      "     |  __suppress_context__\n",
      "     |  \n",
      "     |  __traceback__\n",
      "     |  \n",
      "     |  args\n",
      "    \n",
      "    class LocaleHTMLCalendar(HTMLCalendar)\n",
      "     |  LocaleHTMLCalendar(firstweekday=0, locale=None)\n",
      "     |  \n",
      "     |  This class can be passed a locale name in the constructor and will return\n",
      "     |  month and weekday names in the specified locale. If this locale includes\n",
      "     |  an encoding all strings containing month and weekday names will be returned\n",
      "     |  as unicode.\n",
      "     |  \n",
      "     |  Method resolution order:\n",
      "     |      LocaleHTMLCalendar\n",
      "     |      HTMLCalendar\n",
      "     |      Calendar\n",
      "     |      builtins.object\n",
      "     |  \n",
      "     |  Methods defined here:\n",
      "     |  \n",
      "     |  __init__(self, firstweekday=0, locale=None)\n",
      "     |      Initialize self.  See help(type(self)) for accurate signature.\n",
      "     |  \n",
      "     |  formatmonthname(self, theyear, themonth, withyear=True)\n",
      "     |      Return a month name as a table row.\n",
      "     |  \n",
      "     |  formatweekday(self, day)\n",
      "     |      Return a weekday name as a table header.\n",
      "     |  \n",
      "     |  ----------------------------------------------------------------------\n",
      "     |  Methods inherited from HTMLCalendar:\n",
      "     |  \n",
      "     |  formatday(self, day, weekday)\n",
      "     |      Return a day as a table cell.\n",
      "     |  \n",
      "     |  formatmonth(self, theyear, themonth, withyear=True)\n",
      "     |      Return a formatted month as a table.\n",
      "     |  \n",
      "     |  formatweek(self, theweek)\n",
      "     |      Return a complete week as a table row.\n",
      "     |  \n",
      "     |  formatweekheader(self)\n",
      "     |      Return a header for a week as a table row.\n",
      "     |  \n",
      "     |  formatyear(self, theyear, width=3)\n",
      "     |      Return a formatted year as a table of tables.\n",
      "     |  \n",
      "     |  formatyearpage(self, theyear, width=3, css='calendar.css', encoding=None)\n",
      "     |      Return a formatted year as a complete HTML page.\n",
      "     |  \n",
      "     |  ----------------------------------------------------------------------\n",
      "     |  Data and other attributes inherited from HTMLCalendar:\n",
      "     |  \n",
      "     |  cssclass_month = 'month'\n",
      "     |  \n",
      "     |  cssclass_month_head = 'month'\n",
      "     |  \n",
      "     |  cssclass_noday = 'noday'\n",
      "     |  \n",
      "     |  cssclass_year = 'year'\n",
      "     |  \n",
      "     |  cssclass_year_head = 'year'\n",
      "     |  \n",
      "     |  cssclasses = ['mon', 'tue', 'wed', 'thu', 'fri', 'sat', 'sun']\n",
      "     |  \n",
      "     |  cssclasses_weekday_head = ['mon', 'tue', 'wed', 'thu', 'fri', 'sat', '...\n",
      "     |  \n",
      "     |  ----------------------------------------------------------------------\n",
      "     |  Methods inherited from Calendar:\n",
      "     |  \n",
      "     |  getfirstweekday(self)\n",
      "     |  \n",
      "     |  itermonthdates(self, year, month)\n",
      "     |      Return an iterator for one month. The iterator will yield datetime.date\n",
      "     |      values and will always iterate through complete weeks, so it will yield\n",
      "     |      dates outside the specified month.\n",
      "     |  \n",
      "     |  itermonthdays(self, year, month)\n",
      "     |      Like itermonthdates(), but will yield day numbers. For days outside\n",
      "     |      the specified month the day number is 0.\n",
      "     |  \n",
      "     |  itermonthdays2(self, year, month)\n",
      "     |      Like itermonthdates(), but will yield (day number, weekday number)\n",
      "     |      tuples. For days outside the specified month the day number is 0.\n",
      "     |  \n",
      "     |  itermonthdays3(self, year, month)\n",
      "     |      Like itermonthdates(), but will yield (year, month, day) tuples.  Can be\n",
      "     |      used for dates outside of datetime.date range.\n",
      "     |  \n",
      "     |  itermonthdays4(self, year, month)\n",
      "     |      Like itermonthdates(), but will yield (year, month, day, day_of_week) tuples.\n",
      "     |      Can be used for dates outside of datetime.date range.\n",
      "     |  \n",
      "     |  iterweekdays(self)\n",
      "     |      Return an iterator for one week of weekday numbers starting with the\n",
      "     |      configured first one.\n",
      "     |  \n",
      "     |  monthdatescalendar(self, year, month)\n",
      "     |      Return a matrix (list of lists) representing a month's calendar.\n",
      "     |      Each row represents a week; week entries are datetime.date values.\n",
      "     |  \n",
      "     |  monthdays2calendar(self, year, month)\n",
      "     |      Return a matrix representing a month's calendar.\n",
      "     |      Each row represents a week; week entries are\n",
      "     |      (day number, weekday number) tuples. Day numbers outside this month\n",
      "     |      are zero.\n",
      "     |  \n",
      "     |  monthdayscalendar(self, year, month)\n",
      "     |      Return a matrix representing a month's calendar.\n",
      "     |      Each row represents a week; days outside this month are zero.\n",
      "     |  \n",
      "     |  setfirstweekday(self, firstweekday)\n",
      "     |  \n",
      "     |  yeardatescalendar(self, year, width=3)\n",
      "     |      Return the data for the specified year ready for formatting. The return\n",
      "     |      value is a list of month rows. Each month row contains up to width months.\n",
      "     |      Each month contains between 4 and 6 weeks and each week contains 1-7\n",
      "     |      days. Days are datetime.date objects.\n",
      "     |  \n",
      "     |  yeardays2calendar(self, year, width=3)\n",
      "     |      Return the data for the specified year ready for formatting (similar to\n",
      "     |      yeardatescalendar()). Entries in the week lists are\n",
      "     |      (day number, weekday number) tuples. Day numbers outside this month are\n",
      "     |      zero.\n",
      "     |  \n",
      "     |  yeardayscalendar(self, year, width=3)\n",
      "     |      Return the data for the specified year ready for formatting (similar to\n",
      "     |      yeardatescalendar()). Entries in the week lists are day numbers.\n",
      "     |      Day numbers outside this month are zero.\n",
      "     |  \n",
      "     |  ----------------------------------------------------------------------\n",
      "     |  Data descriptors inherited from Calendar:\n",
      "     |  \n",
      "     |  __dict__\n",
      "     |      dictionary for instance variables (if defined)\n",
      "     |  \n",
      "     |  __weakref__\n",
      "     |      list of weak references to the object (if defined)\n",
      "     |  \n",
      "     |  firstweekday\n",
      "    \n",
      "    class LocaleTextCalendar(TextCalendar)\n",
      "     |  LocaleTextCalendar(firstweekday=0, locale=None)\n",
      "     |  \n",
      "     |  This class can be passed a locale name in the constructor and will return\n",
      "     |  month and weekday names in the specified locale. If this locale includes\n",
      "     |  an encoding all strings containing month and weekday names will be returned\n",
      "     |  as unicode.\n",
      "     |  \n",
      "     |  Method resolution order:\n",
      "     |      LocaleTextCalendar\n",
      "     |      TextCalendar\n",
      "     |      Calendar\n",
      "     |      builtins.object\n",
      "     |  \n",
      "     |  Methods defined here:\n",
      "     |  \n",
      "     |  __init__(self, firstweekday=0, locale=None)\n",
      "     |      Initialize self.  See help(type(self)) for accurate signature.\n",
      "     |  \n",
      "     |  formatmonthname(self, theyear, themonth, width, withyear=True)\n",
      "     |      Return a formatted month name.\n",
      "     |  \n",
      "     |  formatweekday(self, day, width)\n",
      "     |      Returns a formatted week day name.\n",
      "     |  \n",
      "     |  ----------------------------------------------------------------------\n",
      "     |  Methods inherited from TextCalendar:\n",
      "     |  \n",
      "     |  formatday(self, day, weekday, width)\n",
      "     |      Returns a formatted day.\n",
      "     |  \n",
      "     |  formatmonth(self, theyear, themonth, w=0, l=0)\n",
      "     |      Return a month's calendar string (multi-line).\n",
      "     |  \n",
      "     |  formatweek(self, theweek, width)\n",
      "     |      Returns a single week in a string (no newline).\n",
      "     |  \n",
      "     |  formatweekheader(self, width)\n",
      "     |      Return a header for a week.\n",
      "     |  \n",
      "     |  formatyear(self, theyear, w=2, l=1, c=6, m=3)\n",
      "     |      Returns a year's calendar as a multi-line string.\n",
      "     |  \n",
      "     |  prmonth(self, theyear, themonth, w=0, l=0)\n",
      "     |      Print a month's calendar.\n",
      "     |  \n",
      "     |  prweek(self, theweek, width)\n",
      "     |      Print a single week (no newline).\n",
      "     |  \n",
      "     |  pryear(self, theyear, w=0, l=0, c=6, m=3)\n",
      "     |      Print a year's calendar.\n",
      "     |  \n",
      "     |  ----------------------------------------------------------------------\n",
      "     |  Methods inherited from Calendar:\n",
      "     |  \n",
      "     |  getfirstweekday(self)\n",
      "     |  \n",
      "     |  itermonthdates(self, year, month)\n",
      "     |      Return an iterator for one month. The iterator will yield datetime.date\n",
      "     |      values and will always iterate through complete weeks, so it will yield\n",
      "     |      dates outside the specified month.\n",
      "     |  \n",
      "     |  itermonthdays(self, year, month)\n",
      "     |      Like itermonthdates(), but will yield day numbers. For days outside\n",
      "     |      the specified month the day number is 0.\n",
      "     |  \n",
      "     |  itermonthdays2(self, year, month)\n",
      "     |      Like itermonthdates(), but will yield (day number, weekday number)\n",
      "     |      tuples. For days outside the specified month the day number is 0.\n",
      "     |  \n",
      "     |  itermonthdays3(self, year, month)\n",
      "     |      Like itermonthdates(), but will yield (year, month, day) tuples.  Can be\n",
      "     |      used for dates outside of datetime.date range.\n",
      "     |  \n",
      "     |  itermonthdays4(self, year, month)\n",
      "     |      Like itermonthdates(), but will yield (year, month, day, day_of_week) tuples.\n",
      "     |      Can be used for dates outside of datetime.date range.\n",
      "     |  \n",
      "     |  iterweekdays(self)\n",
      "     |      Return an iterator for one week of weekday numbers starting with the\n",
      "     |      configured first one.\n",
      "     |  \n",
      "     |  monthdatescalendar(self, year, month)\n",
      "     |      Return a matrix (list of lists) representing a month's calendar.\n",
      "     |      Each row represents a week; week entries are datetime.date values.\n",
      "     |  \n",
      "     |  monthdays2calendar(self, year, month)\n",
      "     |      Return a matrix representing a month's calendar.\n",
      "     |      Each row represents a week; week entries are\n",
      "     |      (day number, weekday number) tuples. Day numbers outside this month\n",
      "     |      are zero.\n",
      "     |  \n",
      "     |  monthdayscalendar(self, year, month)\n",
      "     |      Return a matrix representing a month's calendar.\n",
      "     |      Each row represents a week; days outside this month are zero.\n",
      "     |  \n",
      "     |  setfirstweekday(self, firstweekday)\n",
      "     |  \n",
      "     |  yeardatescalendar(self, year, width=3)\n",
      "     |      Return the data for the specified year ready for formatting. The return\n",
      "     |      value is a list of month rows. Each month row contains up to width months.\n",
      "     |      Each month contains between 4 and 6 weeks and each week contains 1-7\n",
      "     |      days. Days are datetime.date objects.\n",
      "     |  \n",
      "     |  yeardays2calendar(self, year, width=3)\n",
      "     |      Return the data for the specified year ready for formatting (similar to\n",
      "     |      yeardatescalendar()). Entries in the week lists are\n",
      "     |      (day number, weekday number) tuples. Day numbers outside this month are\n",
      "     |      zero.\n",
      "     |  \n",
      "     |  yeardayscalendar(self, year, width=3)\n",
      "     |      Return the data for the specified year ready for formatting (similar to\n",
      "     |      yeardatescalendar()). Entries in the week lists are day numbers.\n",
      "     |      Day numbers outside this month are zero.\n",
      "     |  \n",
      "     |  ----------------------------------------------------------------------\n",
      "     |  Data descriptors inherited from Calendar:\n",
      "     |  \n",
      "     |  __dict__\n",
      "     |      dictionary for instance variables (if defined)\n",
      "     |  \n",
      "     |  __weakref__\n",
      "     |      list of weak references to the object (if defined)\n",
      "     |  \n",
      "     |  firstweekday\n",
      "    \n",
      "    class TextCalendar(Calendar)\n",
      "     |  TextCalendar(firstweekday=0)\n",
      "     |  \n",
      "     |  Subclass of Calendar that outputs a calendar as a simple plain text\n",
      "     |  similar to the UNIX program cal.\n",
      "     |  \n",
      "     |  Method resolution order:\n",
      "     |      TextCalendar\n",
      "     |      Calendar\n",
      "     |      builtins.object\n",
      "     |  \n",
      "     |  Methods defined here:\n",
      "     |  \n",
      "     |  formatday(self, day, weekday, width)\n",
      "     |      Returns a formatted day.\n",
      "     |  \n",
      "     |  formatmonth(self, theyear, themonth, w=0, l=0)\n",
      "     |      Return a month's calendar string (multi-line).\n",
      "     |  \n",
      "     |  formatmonthname(self, theyear, themonth, width, withyear=True)\n",
      "     |      Return a formatted month name.\n",
      "     |  \n",
      "     |  formatweek(self, theweek, width)\n",
      "     |      Returns a single week in a string (no newline).\n",
      "     |  \n",
      "     |  formatweekday(self, day, width)\n",
      "     |      Returns a formatted week day name.\n",
      "     |  \n",
      "     |  formatweekheader(self, width)\n",
      "     |      Return a header for a week.\n",
      "     |  \n",
      "     |  formatyear(self, theyear, w=2, l=1, c=6, m=3)\n",
      "     |      Returns a year's calendar as a multi-line string.\n",
      "     |  \n",
      "     |  prmonth(self, theyear, themonth, w=0, l=0)\n",
      "     |      Print a month's calendar.\n",
      "     |  \n",
      "     |  prweek(self, theweek, width)\n",
      "     |      Print a single week (no newline).\n",
      "     |  \n",
      "     |  pryear(self, theyear, w=0, l=0, c=6, m=3)\n",
      "     |      Print a year's calendar.\n",
      "     |  \n",
      "     |  ----------------------------------------------------------------------\n",
      "     |  Methods inherited from Calendar:\n",
      "     |  \n",
      "     |  __init__(self, firstweekday=0)\n",
      "     |      Initialize self.  See help(type(self)) for accurate signature.\n",
      "     |  \n",
      "     |  getfirstweekday(self)\n",
      "     |  \n",
      "     |  itermonthdates(self, year, month)\n",
      "     |      Return an iterator for one month. The iterator will yield datetime.date\n",
      "     |      values and will always iterate through complete weeks, so it will yield\n",
      "     |      dates outside the specified month.\n",
      "     |  \n",
      "     |  itermonthdays(self, year, month)\n",
      "     |      Like itermonthdates(), but will yield day numbers. For days outside\n",
      "     |      the specified month the day number is 0.\n",
      "     |  \n",
      "     |  itermonthdays2(self, year, month)\n",
      "     |      Like itermonthdates(), but will yield (day number, weekday number)\n",
      "     |      tuples. For days outside the specified month the day number is 0.\n",
      "     |  \n",
      "     |  itermonthdays3(self, year, month)\n",
      "     |      Like itermonthdates(), but will yield (year, month, day) tuples.  Can be\n",
      "     |      used for dates outside of datetime.date range.\n",
      "     |  \n",
      "     |  itermonthdays4(self, year, month)\n",
      "     |      Like itermonthdates(), but will yield (year, month, day, day_of_week) tuples.\n",
      "     |      Can be used for dates outside of datetime.date range.\n",
      "     |  \n",
      "     |  iterweekdays(self)\n",
      "     |      Return an iterator for one week of weekday numbers starting with the\n",
      "     |      configured first one.\n",
      "     |  \n",
      "     |  monthdatescalendar(self, year, month)\n",
      "     |      Return a matrix (list of lists) representing a month's calendar.\n",
      "     |      Each row represents a week; week entries are datetime.date values.\n",
      "     |  \n",
      "     |  monthdays2calendar(self, year, month)\n",
      "     |      Return a matrix representing a month's calendar.\n",
      "     |      Each row represents a week; week entries are\n",
      "     |      (day number, weekday number) tuples. Day numbers outside this month\n",
      "     |      are zero.\n",
      "     |  \n",
      "     |  monthdayscalendar(self, year, month)\n",
      "     |      Return a matrix representing a month's calendar.\n",
      "     |      Each row represents a week; days outside this month are zero.\n",
      "     |  \n",
      "     |  setfirstweekday(self, firstweekday)\n",
      "     |  \n",
      "     |  yeardatescalendar(self, year, width=3)\n",
      "     |      Return the data for the specified year ready for formatting. The return\n",
      "     |      value is a list of month rows. Each month row contains up to width months.\n",
      "     |      Each month contains between 4 and 6 weeks and each week contains 1-7\n",
      "     |      days. Days are datetime.date objects.\n",
      "     |  \n",
      "     |  yeardays2calendar(self, year, width=3)\n",
      "     |      Return the data for the specified year ready for formatting (similar to\n",
      "     |      yeardatescalendar()). Entries in the week lists are\n",
      "     |      (day number, weekday number) tuples. Day numbers outside this month are\n",
      "     |      zero.\n",
      "     |  \n",
      "     |  yeardayscalendar(self, year, width=3)\n",
      "     |      Return the data for the specified year ready for formatting (similar to\n",
      "     |      yeardatescalendar()). Entries in the week lists are day numbers.\n",
      "     |      Day numbers outside this month are zero.\n",
      "     |  \n",
      "     |  ----------------------------------------------------------------------\n",
      "     |  Data descriptors inherited from Calendar:\n",
      "     |  \n",
      "     |  __dict__\n",
      "     |      dictionary for instance variables (if defined)\n",
      "     |  \n",
      "     |  __weakref__\n",
      "     |      list of weak references to the object (if defined)\n",
      "     |  \n",
      "     |  firstweekday\n",
      "\n",
      "FUNCTIONS\n",
      "    calendar = formatyear(theyear, w=2, l=1, c=6, m=3) method of TextCalendar instance\n",
      "        Returns a year's calendar as a multi-line string.\n",
      "    \n",
      "    firstweekday = getfirstweekday() method of TextCalendar instance\n",
      "    \n",
      "    isleap(year)\n",
      "        Return True for leap years, False for non-leap years.\n",
      "    \n",
      "    leapdays(y1, y2)\n",
      "        Return number of leap years in range [y1, y2).\n",
      "        Assume y1 <= y2.\n",
      "    \n",
      "    month = formatmonth(theyear, themonth, w=0, l=0) method of TextCalendar instance\n",
      "        Return a month's calendar string (multi-line).\n",
      "    \n",
      "    monthcalendar = monthdayscalendar(year, month) method of TextCalendar instance\n",
      "        Return a matrix representing a month's calendar.\n",
      "        Each row represents a week; days outside this month are zero.\n",
      "    \n",
      "    monthrange(year, month)\n",
      "        Return weekday (0-6 ~ Mon-Sun) and number of days (28-31) for\n",
      "        year, month.\n",
      "    \n",
      "    prcal = pryear(theyear, w=0, l=0, c=6, m=3) method of TextCalendar instance\n",
      "        Print a year's calendar.\n",
      "    \n",
      "    prmonth(theyear, themonth, w=0, l=0) method of TextCalendar instance\n",
      "        Print a month's calendar.\n",
      "    \n",
      "    setfirstweekday(firstweekday)\n",
      "    \n",
      "    timegm(tuple)\n",
      "        Unrelated but handy function to calculate Unix timestamp from GMT.\n",
      "    \n",
      "    weekday(year, month, day)\n",
      "        Return weekday (0-6 ~ Mon-Sun) for year, month (1-12), day (1-31).\n",
      "    \n",
      "    weekheader = formatweekheader(width) method of TextCalendar instance\n",
      "        Return a header for a week.\n",
      "\n",
      "DATA\n",
      "    __all__ = ['IllegalMonthError', 'IllegalWeekdayError', 'setfirstweekda...\n",
      "    day_abbr = <calendar._localized_day object>\n",
      "    day_name = <calendar._localized_day object>\n",
      "    month_abbr = <calendar._localized_month object>\n",
      "    month_name = <calendar._localized_month object>\n",
      "\n",
      "FILE\n",
      "    /Users/rangga.ugahari/opt/anaconda3/lib/python3.7/calendar.py\n",
      "\n",
      "\n"
     ]
    }
   ],
   "source": [
    "#### CALL HELP ON IT ####\n",
    "help(calendar)"
   ]
  },
  {
   "cell_type": "markdown",
   "metadata": {},
   "source": [
    "### <font color='red'>1.2) Run the following block, so it changes starttime and stoptime columns of <i>data</i> to the right <i>datetime</i> format </font>"
   ]
  },
  {
   "cell_type": "code",
   "execution_count": 7,
   "metadata": {},
   "outputs": [],
   "source": [
    "data['starttime'] = pd.to_datetime(data['starttime'], format=\"%Y-%m-%d %H:%M\")\n",
    "data['stoptime'] = pd.to_datetime(data['stoptime'], format=\"%Y-%m-%d %H:%M\")"
   ]
  },
  {
   "cell_type": "markdown",
   "metadata": {},
   "source": [
    "### <font color='red'>1.3) Run the following block with different day indexes, so you can see what <i>calendar.day_name[index_day]</i> returns </font>"
   ]
  },
  {
   "cell_type": "code",
   "execution_count": 8,
   "metadata": {
    "collapsed": false,
    "jupyter": {
     "outputs_hidden": false
    }
   },
   "outputs": [
    {
     "name": "stdout",
     "output_type": "stream",
     "text": [
      "0 Monday\n",
      "1 Tuesday\n",
      "2 Wednesday\n",
      "3 Thursday\n",
      "4 Friday\n",
      "5 Saturday\n",
      "6 Sunday\n"
     ]
    }
   ],
   "source": [
    "index_day = range(0,7)\n",
    "for i in index_day:\n",
    "    print (i, calendar.day_name[i])"
   ]
  },
  {
   "cell_type": "markdown",
   "metadata": {},
   "source": [
    "### <font color='red'>1.4) Run the following block so you get the day index of a given observation, as well as its week-day using <i>calendar</i></font>"
   ]
  },
  {
   "cell_type": "code",
   "execution_count": 32,
   "metadata": {
    "collapsed": false,
    "jupyter": {
     "outputs_hidden": false
    }
   },
   "outputs": [
    {
     "name": "stdout",
     "output_type": "stream",
     "text": [
      "tripduration                                   1338\n",
      "starttime                       2015-06-01 00:00:00\n",
      "stoptime                        2015-06-01 00:22:00\n",
      "start station id                                128\n",
      "start station name         MacDougal St & Prince St\n",
      "start station latitude                    40.727103\n",
      "start station longitude                  -74.002971\n",
      "end station id                                 2021\n",
      "end station name                    W 45 St & 8 Ave\n",
      "end station latitude                      40.759291\n",
      "end station longitude                    -73.988597\n",
      "bikeid                                        20721\n",
      "usertype                                 Subscriber\n",
      "birth year                                   1984.0\n",
      "gender                                            1\n",
      "Name: 0, dtype: object\n",
      "starttime: 2015-06-01 00:00:00\n",
      "starttime weekday index: 0\n",
      "starttime weekday name: Monday\n"
     ]
    }
   ],
   "source": [
    "example_observation = data.iloc[0] #take the first row data\n",
    "print(example_observation)\n",
    "print(\"starttime:\", example_observation.starttime)\n",
    "print(\"starttime weekday index:\", example_observation.starttime.weekday())\n",
    "print(\"starttime weekday name:\", calendar.day_name[example_observation.starttime.weekday()])"
   ]
  },
  {
   "cell_type": "markdown",
   "metadata": {},
   "source": [
    "### <font color='red'>1.5) Create a column in the dataframe, containing the day of the week of a given trip. You can use the following functions:</font>\n",
    "- pd.column_name.apply()\n",
    "- calendar.day_name[day_number_here] (notice the brackets)\n",
    "- datetime.weekday()\n",
    "\n",
    "<font color='green'> <b>Any function can be passed to pd.column_name.apply(name_of_your_function), for instance you could use the <i>lambda functions</i></b>:\n",
    "- new_column = pd.column_name.apply(lambda x: x.attribute_of_x) will create a new column, based on the attributes of elements of the old column.<font color='green'>"
   ]
  },
  {
   "cell_type": "code",
   "execution_count": 33,
   "metadata": {
    "collapsed": false,
    "jupyter": {
     "outputs_hidden": false
    }
   },
   "outputs": [],
   "source": [
    "data['start_day'] = data.starttime.apply(lambda x: calendar.day_name[x.weekday()])\n",
    "#### ADD THE DAY OF THE WEEK IN THIS NEW DATAFRAME COLUMN ####"
   ]
  },
  {
   "cell_type": "markdown",
   "metadata": {},
   "source": [
    "### <font color='red'>1.6) Print samples of data to make sure the column has been created successfully </font>"
   ]
  },
  {
   "cell_type": "code",
   "execution_count": 36,
   "metadata": {
    "collapsed": false,
    "jupyter": {
     "outputs_hidden": false
    }
   },
   "outputs": [
    {
     "data": {
      "text/html": [
       "<div>\n",
       "<style scoped>\n",
       "    .dataframe tbody tr th:only-of-type {\n",
       "        vertical-align: middle;\n",
       "    }\n",
       "\n",
       "    .dataframe tbody tr th {\n",
       "        vertical-align: top;\n",
       "    }\n",
       "\n",
       "    .dataframe thead th {\n",
       "        text-align: right;\n",
       "    }\n",
       "</style>\n",
       "<table border=\"1\" class=\"dataframe\">\n",
       "  <thead>\n",
       "    <tr style=\"text-align: right;\">\n",
       "      <th></th>\n",
       "      <th>starttime</th>\n",
       "      <th>start_day</th>\n",
       "    </tr>\n",
       "  </thead>\n",
       "  <tbody>\n",
       "    <tr>\n",
       "      <th>151695</th>\n",
       "      <td>2015-06-07 00:14:00</td>\n",
       "      <td>Sunday</td>\n",
       "    </tr>\n",
       "    <tr>\n",
       "      <th>218155</th>\n",
       "      <td>2015-06-09 07:54:00</td>\n",
       "      <td>Tuesday</td>\n",
       "    </tr>\n",
       "  </tbody>\n",
       "</table>\n",
       "</div>"
      ],
      "text/plain": [
       "                 starttime start_day\n",
       "151695 2015-06-07 00:14:00    Sunday\n",
       "218155 2015-06-09 07:54:00   Tuesday"
      ]
     },
     "execution_count": 36,
     "metadata": {},
     "output_type": "execute_result"
    }
   ],
   "source": [
    "col = ['starttime', 'start_day']\n",
    "data[col].sample(2)"
   ]
  },
  {
   "cell_type": "markdown",
   "metadata": {},
   "source": [
    "### <font color='red'>1.7) Use the <i>seaborn</i> package, and more specifically <i>sns.countplot</i>, to plot the number of trips per week day</font>"
   ]
  },
  {
   "cell_type": "code",
   "execution_count": 37,
   "metadata": {
    "collapsed": false,
    "jupyter": {
     "outputs_hidden": false
    }
   },
   "outputs": [
    {
     "data": {
      "text/plain": [
       "Text(0.5, 1.0, 'Number of Trips by Weekday')"
      ]
     },
     "execution_count": 37,
     "metadata": {},
     "output_type": "execute_result"
    },
    {
     "data": {
      "image/png": "[encoded data removed]",
      "text/plain": [
       "<Figure size 1440x720 with 1 Axes>"
      ]
     },
     "metadata": {
      "needs_background": "light"
     },
     "output_type": "display_data"
    }
   ],
   "source": [
    "plt.figure(figsize=[20,10])\n",
    "g = sns.countplot(data['start_day'])\n",
    "for p in g.patches:\n",
    "    g.text(p.get_x()+0.2, p.get_height()+1, '%i' % p.get_height(), size = 15) \n",
    "    \n",
    "plt.title('Number of Trips by Weekday')"
   ]
  },
  {
   "cell_type": "markdown",
   "metadata": {},
   "source": [
    "### <font color='red'>1.8) Define a new binary column, with True if day is on the weekend, False otherwise. You can use the <i>pandas.column_name.apply(your_function_here)</i> function.</font>"
   ]
  },
  {
   "cell_type": "code",
   "execution_count": 38,
   "metadata": {},
   "outputs": [],
   "source": [
    "data['is_weekend'] = data.start_day.apply(lambda x: 1 if (x == 'Saturday' or x == 'Sunday') else 0)\n",
    "##### NEW BINARY COLUMN, 1 IF OBSERVATION IS A WEEKEND TRIP, 0 OTHERWISE ####\n",
    "                    #### YOU CAN USE A LAMBDA FUNCTION HERE like this : .apply(lambda x: x in set_to_check) ####"
   ]
  },
  {
   "cell_type": "markdown",
   "metadata": {},
   "source": [
    "### <font color='red'>1.9) Plot samples of data to check success of operation</font>"
   ]
  },
  {
   "cell_type": "code",
   "execution_count": 39,
   "metadata": {
    "collapsed": false,
    "jupyter": {
     "outputs_hidden": false
    }
   },
   "outputs": [
    {
     "data": {
      "text/html": [
       "<div>\n",
       "<style scoped>\n",
       "    .dataframe tbody tr th:only-of-type {\n",
       "        vertical-align: middle;\n",
       "    }\n",
       "\n",
       "    .dataframe tbody tr th {\n",
       "        vertical-align: top;\n",
       "    }\n",
       "\n",
       "    .dataframe thead th {\n",
       "        text-align: right;\n",
       "    }\n",
       "</style>\n",
       "<table border=\"1\" class=\"dataframe\">\n",
       "  <thead>\n",
       "    <tr style=\"text-align: right;\">\n",
       "      <th></th>\n",
       "      <th>start_day</th>\n",
       "      <th>is_weekend</th>\n",
       "    </tr>\n",
       "  </thead>\n",
       "  <tbody>\n",
       "    <tr>\n",
       "      <th>202098</th>\n",
       "      <td>Monday</td>\n",
       "      <td>0</td>\n",
       "    </tr>\n",
       "    <tr>\n",
       "      <th>715015</th>\n",
       "      <td>Wednesday</td>\n",
       "      <td>0</td>\n",
       "    </tr>\n",
       "    <tr>\n",
       "      <th>386862</th>\n",
       "      <td>Saturday</td>\n",
       "      <td>1</td>\n",
       "    </tr>\n",
       "    <tr>\n",
       "      <th>802329</th>\n",
       "      <td>Friday</td>\n",
       "      <td>0</td>\n",
       "    </tr>\n",
       "    <tr>\n",
       "      <th>344461</th>\n",
       "      <td>Friday</td>\n",
       "      <td>0</td>\n",
       "    </tr>\n",
       "  </tbody>\n",
       "</table>\n",
       "</div>"
      ],
      "text/plain": [
       "        start_day  is_weekend\n",
       "202098     Monday           0\n",
       "715015  Wednesday           0\n",
       "386862   Saturday           1\n",
       "802329     Friday           0\n",
       "344461     Friday           0"
      ]
     },
     "execution_count": 39,
     "metadata": {},
     "output_type": "execute_result"
    }
   ],
   "source": [
    "col = ['start_day', 'is_weekend']\n",
    "data[col].sample(5)"
   ]
  },
  {
   "cell_type": "markdown",
   "metadata": {},
   "source": [
    "## 2) Morning/afternoon/evening/night <font color='blue'> (15 min) </font>"
   ]
  },
  {
   "cell_type": "markdown",
   "metadata": {},
   "source": [
    "### <font color='red'>2.1) Define a function that returns a string depending on its parameter x. If:</font>\n",
    "- x.hour is strictly under 6 or strictly over 22, return 'night'\n",
    "- x.hour is strictly over 18 and under 22, return 'evening'\n",
    "- x.hour is strictly over 12 and under 18, return 'afternoon'\n",
    "- otherwise return 'morning'"
   ]
  },
  {
   "cell_type": "code",
   "execution_count": 40,
   "metadata": {
    "collapsed": false,
    "jupyter": {
     "outputs_hidden": false
    }
   },
   "outputs": [],
   "source": [
    "def time_of_day(x):\n",
    "    if x.hour < 6 or x.hour >= 22:    #### COMPLETE THE FUNCTION BELOW ####\n",
    "        return 'night'\n",
    "    elif x.hour > 18 and x.hour < 22:\n",
    "        return 'evening'\n",
    "    elif x.hour >= 12 and x.hour <= 18:\n",
    "        return 'afternoon'\n",
    "    else:\n",
    "        return 'morning'"
   ]
  },
  {
   "cell_type": "markdown",
   "metadata": {},
   "source": [
    "### <font color='red'>2.2) Apply the function to the <i>starttime</i> column of <i>data</i> to create a new feature , using <i>pd.apply(your_function)</i> function</font>"
   ]
  },
  {
   "cell_type": "code",
   "execution_count": 41,
   "metadata": {
    "collapsed": false,
    "jupyter": {
     "outputs_hidden": false
    }
   },
   "outputs": [
    {
     "data": {
      "text/html": [
       "<div>\n",
       "<style scoped>\n",
       "    .dataframe tbody tr th:only-of-type {\n",
       "        vertical-align: middle;\n",
       "    }\n",
       "\n",
       "    .dataframe tbody tr th {\n",
       "        vertical-align: top;\n",
       "    }\n",
       "\n",
       "    .dataframe thead th {\n",
       "        text-align: right;\n",
       "    }\n",
       "</style>\n",
       "<table border=\"1\" class=\"dataframe\">\n",
       "  <thead>\n",
       "    <tr style=\"text-align: right;\">\n",
       "      <th></th>\n",
       "      <th>starttime</th>\n",
       "      <th>start_moment</th>\n",
       "    </tr>\n",
       "  </thead>\n",
       "  <tbody>\n",
       "    <tr>\n",
       "      <th>688534</th>\n",
       "      <td>2015-06-23 13:21:00</td>\n",
       "      <td>afternoon</td>\n",
       "    </tr>\n",
       "    <tr>\n",
       "      <th>141516</th>\n",
       "      <td>2015-06-06 16:53:00</td>\n",
       "      <td>afternoon</td>\n",
       "    </tr>\n",
       "    <tr>\n",
       "      <th>114032</th>\n",
       "      <td>2015-06-05 17:09:00</td>\n",
       "      <td>afternoon</td>\n",
       "    </tr>\n",
       "    <tr>\n",
       "      <th>745667</th>\n",
       "      <td>2015-06-24 23:11:00</td>\n",
       "      <td>night</td>\n",
       "    </tr>\n",
       "    <tr>\n",
       "      <th>460959</th>\n",
       "      <td>2015-06-16 14:55:00</td>\n",
       "      <td>afternoon</td>\n",
       "    </tr>\n",
       "  </tbody>\n",
       "</table>\n",
       "</div>"
      ],
      "text/plain": [
       "                 starttime start_moment\n",
       "688534 2015-06-23 13:21:00    afternoon\n",
       "141516 2015-06-06 16:53:00    afternoon\n",
       "114032 2015-06-05 17:09:00    afternoon\n",
       "745667 2015-06-24 23:11:00        night\n",
       "460959 2015-06-16 14:55:00    afternoon"
      ]
     },
     "execution_count": 41,
     "metadata": {},
     "output_type": "execute_result"
    }
   ],
   "source": [
    "data['start_moment'] = data.starttime.apply(time_of_day)\n",
    "col = ['starttime', 'start_moment']\n",
    "data[col].sample(5)\n",
    "#### APPLY THE FUNCTION TO data.starttime IN ORDER TO CREATE A NEW FEATURE ####"
   ]
  },
  {
   "cell_type": "markdown",
   "metadata": {},
   "source": [
    "### <font color='red'>2.3) Use <i>seaborn.countplot()</i> to plot the number of trips per moment of the day, with axes labels, and a title</font>"
   ]
  },
  {
   "cell_type": "code",
   "execution_count": 42,
   "metadata": {
    "collapsed": false,
    "jupyter": {
     "outputs_hidden": false
    }
   },
   "outputs": [
    {
     "data": {
      "text/plain": [
       "Text(0, 0.5, 'numberoftrips')"
      ]
     },
     "execution_count": 42,
     "metadata": {},
     "output_type": "execute_result"
    },
    {
     "data": {
      "image/png": "[encoded data removed]",
      "text/plain": [
       "<Figure size 432x288 with 1 Axes>"
      ]
     },
     "metadata": {
      "needs_background": "light"
     },
     "output_type": "display_data"
    }
   ],
   "source": [
    "g = sns.countplot(data.start_moment)\n",
    "for p in g.patches:\n",
    "    g.text(p.get_x()+0.2, p.get_height()+1, '%i' % p.get_height(), size = 10)\n",
    "g.set_xticklabels(g.xaxis.get_majorticklabels(), rotation=45)\n",
    "plt.title('Number of Trips by Time')\n",
    "plt.xlabel('moment')\n",
    "plt.ylabel('numberoftrips')"
   ]
  },
  {
   "cell_type": "markdown",
   "metadata": {},
   "source": [
    "### <font color='red'>2.4) Use <i>seaborn.countplot()</i> to plot the number of trips per weekday and per time of day</font>"
   ]
  },
  {
   "cell_type": "code",
   "execution_count": 43,
   "metadata": {
    "collapsed": false,
    "jupyter": {
     "outputs_hidden": false
    }
   },
   "outputs": [
    {
     "data": {
      "text/plain": [
       "Text(0, 0.5, 'numberoftrips')"
      ]
     },
     "execution_count": 43,
     "metadata": {},
     "output_type": "execute_result"
    },
    {
     "data": {
      "image/png": "[encoded data removed]",
      "text/plain": [
       "<Figure size 1440x1080 with 1 Axes>"
      ]
     },
     "metadata": {
      "needs_background": "light"
     },
     "output_type": "display_data"
    }
   ],
   "source": [
    "plt.figure(figsize=[20,15])\n",
    "g = sns.countplot(data.start_day, hue=data.start_moment)\n",
    "for p in g.patches:\n",
    "    g.text(p.get_x()+0.0001, p.get_height()+1, '%i' % p.get_height(), size = 13)\n",
    "plt.title('Number of Trips by Time')\n",
    "plt.xlabel('day')\n",
    "plt.ylabel('numberoftrips')"
   ]
  },
  {
   "cell_type": "markdown",
   "metadata": {},
   "source": [
    "## 3) Is circle trip <font color='blue'> (5 min) </font>"
   ]
  },
  {
   "cell_type": "markdown",
   "metadata": {},
   "source": [
    "### <font color='red'>3.1) Define a new binary column, with 1 if trip was loopy, 0 otherwise. You can use a boolean comparison of two columns of the dataframe:</font>\n",
    "\n",
    "- example of boolean condition : <b>data.column_1 == data.column_2</b>"
   ]
  },
  {
   "cell_type": "code",
   "execution_count": 44,
   "metadata": {
    "collapsed": false,
    "jupyter": {
     "outputs_hidden": false
    }
   },
   "outputs": [
    {
     "data": {
      "text/html": [
       "<div>\n",
       "<style scoped>\n",
       "    .dataframe tbody tr th:only-of-type {\n",
       "        vertical-align: middle;\n",
       "    }\n",
       "\n",
       "    .dataframe tbody tr th {\n",
       "        vertical-align: top;\n",
       "    }\n",
       "\n",
       "    .dataframe thead th {\n",
       "        text-align: right;\n",
       "    }\n",
       "</style>\n",
       "<table border=\"1\" class=\"dataframe\">\n",
       "  <thead>\n",
       "    <tr style=\"text-align: right;\">\n",
       "      <th></th>\n",
       "      <th>tripduration</th>\n",
       "      <th>starttime</th>\n",
       "      <th>stoptime</th>\n",
       "      <th>start station id</th>\n",
       "      <th>start station name</th>\n",
       "      <th>start station latitude</th>\n",
       "      <th>start station longitude</th>\n",
       "      <th>end station id</th>\n",
       "      <th>end station name</th>\n",
       "      <th>end station latitude</th>\n",
       "      <th>end station longitude</th>\n",
       "      <th>bikeid</th>\n",
       "      <th>usertype</th>\n",
       "      <th>birth year</th>\n",
       "      <th>gender</th>\n",
       "      <th>start_day</th>\n",
       "      <th>is_weekend</th>\n",
       "      <th>start_moment</th>\n",
       "    </tr>\n",
       "  </thead>\n",
       "  <tbody>\n",
       "    <tr>\n",
       "      <th>896086</th>\n",
       "      <td>1386</td>\n",
       "      <td>2015-06-29 21:54:00</td>\n",
       "      <td>2015-06-29 22:17:00</td>\n",
       "      <td>3002</td>\n",
       "      <td>South End Ave &amp; Liberty St</td>\n",
       "      <td>40.711512</td>\n",
       "      <td>-74.015756</td>\n",
       "      <td>146</td>\n",
       "      <td>Hudson St &amp; Reade St</td>\n",
       "      <td>40.716250</td>\n",
       "      <td>-74.009106</td>\n",
       "      <td>15721</td>\n",
       "      <td>Customer</td>\n",
       "      <td>NaN</td>\n",
       "      <td>0</td>\n",
       "      <td>Monday</td>\n",
       "      <td>0</td>\n",
       "      <td>evening</td>\n",
       "    </tr>\n",
       "    <tr>\n",
       "      <th>917420</th>\n",
       "      <td>611</td>\n",
       "      <td>2015-06-30 15:42:00</td>\n",
       "      <td>2015-06-30 15:52:00</td>\n",
       "      <td>521</td>\n",
       "      <td>8 Ave &amp; W 31 St</td>\n",
       "      <td>40.750967</td>\n",
       "      <td>-73.994442</td>\n",
       "      <td>444</td>\n",
       "      <td>Broadway &amp; W 24 St</td>\n",
       "      <td>40.742354</td>\n",
       "      <td>-73.989151</td>\n",
       "      <td>19049</td>\n",
       "      <td>Customer</td>\n",
       "      <td>NaN</td>\n",
       "      <td>0</td>\n",
       "      <td>Tuesday</td>\n",
       "      <td>0</td>\n",
       "      <td>afternoon</td>\n",
       "    </tr>\n",
       "  </tbody>\n",
       "</table>\n",
       "</div>"
      ],
      "text/plain": [
       "        tripduration           starttime            stoptime  \\\n",
       "896086          1386 2015-06-29 21:54:00 2015-06-29 22:17:00   \n",
       "917420           611 2015-06-30 15:42:00 2015-06-30 15:52:00   \n",
       "\n",
       "        start station id          start station name  start station latitude  \\\n",
       "896086              3002  South End Ave & Liberty St               40.711512   \n",
       "917420               521             8 Ave & W 31 St               40.750967   \n",
       "\n",
       "        start station longitude  end station id      end station name  \\\n",
       "896086               -74.015756             146  Hudson St & Reade St   \n",
       "917420               -73.994442             444    Broadway & W 24 St   \n",
       "\n",
       "        end station latitude  end station longitude  bikeid  usertype  \\\n",
       "896086             40.716250             -74.009106   15721  Customer   \n",
       "917420             40.742354             -73.989151   19049  Customer   \n",
       "\n",
       "        birth year  gender start_day  is_weekend start_moment  \n",
       "896086         NaN       0    Monday           0      evening  \n",
       "917420         NaN       0   Tuesday           0    afternoon  "
      ]
     },
     "execution_count": 44,
     "metadata": {},
     "output_type": "execute_result"
    }
   ],
   "source": [
    "data.sample(2)"
   ]
  },
  {
   "cell_type": "code",
   "execution_count": 45,
   "metadata": {
    "collapsed": false,
    "jupyter": {
     "outputs_hidden": false
    }
   },
   "outputs": [],
   "source": [
    "data['is_circle_trip'] = data.apply(lambda x: 1 if x['start station id'] == x['end station id'] else 0, axis = 1)\n",
    "#data['is_circle_trip'] = data['start station id'] == data['end station id']\n",
    "#### USE A COMPARISON OF TWO COLUMNS OF THE DATAFRAME TO CHECK FOR A LOOP ####"
   ]
  },
  {
   "cell_type": "markdown",
   "metadata": {},
   "source": [
    "### <font color='red'>3.2) Print the proportion of circle trips in the dataset</font>"
   ]
  },
  {
   "cell_type": "code",
   "execution_count": 46,
   "metadata": {
    "collapsed": false,
    "jupyter": {
     "outputs_hidden": false
    }
   },
   "outputs": [
    {
     "data": {
      "text/plain": [
       "0.0217509800819977"
      ]
     },
     "execution_count": 46,
     "metadata": {},
     "output_type": "execute_result"
    }
   ],
   "source": [
    "data['is_circle_trip'].sum()/data['is_circle_trip'].count()"
   ]
  },
  {
   "cell_type": "markdown",
   "metadata": {},
   "source": [
    "## 4) Understanding trip evolution in June <font color='blue'> (15 min) </font>"
   ]
  },
  {
   "cell_type": "markdown",
   "metadata": {},
   "source": [
    "### <font color='red'>4.1) Add a new column with the trip day number. Since all trips in the dataset occured in June, we will name this column \"june_day\". You can use the <i>datetime.day</i> attribute of the starttime</font>"
   ]
  },
  {
   "cell_type": "code",
   "execution_count": 47,
   "metadata": {
    "collapsed": false,
    "jupyter": {
     "outputs_hidden": false
    }
   },
   "outputs": [],
   "source": [
    "data['june_day'] = data.starttime.apply(lambda x: x.day)\n",
    "#### ADD A NEW FEATURE: THE DAY IN JUNE ####\n",
    "                    #### HINT : use data.starttime.apply(your_lambda_function) #####"
   ]
  },
  {
   "cell_type": "markdown",
   "metadata": {},
   "source": [
    "### <font color='red'>4.2) Group by the columns with respect to day in June, using <i>data.groupby()</i></font>"
   ]
  },
  {
   "cell_type": "code",
   "execution_count": 48,
   "metadata": {
    "collapsed": false,
    "jupyter": {
     "outputs_hidden": false
    }
   },
   "outputs": [
    {
     "name": "stdout",
     "output_type": "stream",
     "text": [
      "   june_day  numberoftrips  uniqueStartstationid\n",
      "0         1          15256                   318\n",
      "1         2          11962                   318\n",
      "2         3          34422                   319\n",
      "3         4          32659                   319\n",
      "4         5          31186                   319\n"
     ]
    }
   ],
   "source": [
    "grouped_by_data = data.groupby(data['june_day'],as_index = False)\n",
    "#### GROUP THE DATA BY JUNE DAY ####\n",
    "df = grouped_by_data.aggregate({'tripduration': pd.Series.count, 'start station id': pd.Series.nunique})\n",
    "df.columns = ['june_day', 'numberoftrips', 'uniqueStartstationid']\n",
    "print(df.head())"
   ]
  },
  {
   "cell_type": "markdown",
   "metadata": {},
   "source": [
    "### <font color='red'>4.3) Aggregate the grouped by data with respect to mean weekend, and number of trips, using the <i>.count()</i> and <i>.mean()</i> methods of <i>data.groupby()</i></font>"
   ]
  },
  {
   "cell_type": "code",
   "execution_count": 50,
   "metadata": {},
   "outputs": [],
   "source": [
    "aggregate_count_trips = grouped_by_data.count()\n",
    "aggregate_weekend = grouped_by_data.mean()"
   ]
  },
  {
   "cell_type": "markdown",
   "metadata": {},
   "source": [
    "### <font color='red'>4.4) Understand what the code below does. How do you understand the plots ? You can look up the following functions:</font>\n",
    "- fig, ax1 = plt.subplots()\n",
    "- ax2=ax1.twinx()\n",
    "- ax1.plot(), ax2.plot()\n",
    "- any other options to set the ticks labels, colors, titles ..."
   ]
  },
  {
   "cell_type": "code",
   "execution_count": 51,
   "metadata": {
    "collapsed": false,
    "jupyter": {
     "outputs_hidden": false
    }
   },
   "outputs": [
    {
     "data": {
      "image/png": "[encoded data removed]",
      "text/plain": [
       "<Figure size 1080x720 with 2 Axes>"
      ]
     },
     "metadata": {},
     "output_type": "display_data"
    }
   ],
   "source": [
    "sns.set_style('white')\n",
    "\n",
    "fig, ax1 = plt.subplots(figsize=(15,10))\n",
    "\n",
    "june_day = aggregate_count_trips.index\n",
    "\n",
    "number_trips = aggregate_count_trips.tripduration\n",
    "ax1.plot(june_day, number_trips, 'b')\n",
    "ax1.set_xlabel('Day in June')\n",
    "for ticklabel in ax1.get_yticklabels():\n",
    "    ticklabel.set_color('b')\n",
    "ax1.set_ylabel('Number of trips',color='b')\n",
    "\n",
    "ax2 = ax1.twinx() #add another axis\n",
    "weekend = aggregate_weekend.is_weekend\n",
    "ax2.plot(june_day, weekend, 'k--')\n",
    "for ticklabel in ax2.get_yticklabels():\n",
    "    ticklabel.set_color('k')\n",
    "ax2.set_ylabel('Moment',color='k')\n",
    "plt.title('Number of trips and weekend per day in June', fontsize=17)\n",
    "plt.show()\n",
    "\n",
    "#start_moment"
   ]
  },
  {
   "cell_type": "markdown",
   "metadata": {},
   "source": [
    "## 5) Trip distances and speeds <font color='blue'> (15 min) </font>"
   ]
  },
  {
   "cell_type": "markdown",
   "metadata": {},
   "source": [
    "### <font color='red'>Import the haversine package, that computes the haversine distance from one coordinate to another</font>"
   ]
  },
  {
   "cell_type": "code",
   "execution_count": 52,
   "metadata": {},
   "outputs": [],
   "source": [
    "from haversine import haversine"
   ]
  },
  {
   "cell_type": "markdown",
   "metadata": {},
   "source": [
    "### <font color='red'>Understand how the <i>haversine</i> function from the package can be used to compute a distance by running the following blocks</font>"
   ]
  },
  {
   "cell_type": "code",
   "execution_count": 53,
   "metadata": {},
   "outputs": [],
   "source": [
    "x = data.iloc[0]"
   ]
  },
  {
   "cell_type": "code",
   "execution_count": 54,
   "metadata": {
    "collapsed": false,
    "jupyter": {
     "outputs_hidden": false
    }
   },
   "outputs": [
    {
     "name": "stdout",
     "output_type": "stream",
     "text": [
      "Traveled haversine distance for trip 0: 3.8 kilometers\n"
     ]
    }
   ],
   "source": [
    "print('Traveled haversine distance for trip 0: {:.1f} kilometers'.format(\n",
    "    haversine((x['start station latitude'], x['start station longitude']),\n",
    "              (x['end station latitude'], x['end station longitude']))))#,miles=True))\n",
    "#by default, it will give result in kilometers. we can change it to miles by adding miles=True in the hyperparameter"
   ]
  },
  {
   "cell_type": "markdown",
   "metadata": {},
   "source": [
    "### <font color='red'>5.1) Complete the following function so it returns, for a given observation, the haversine distance from a start station to the end station</font>"
   ]
  },
  {
   "cell_type": "code",
   "execution_count": 55,
   "metadata": {
    "collapsed": false,
    "jupyter": {
     "outputs_hidden": false
    }
   },
   "outputs": [],
   "source": [
    "def distance_stations(x):\n",
    "    start_lat = x['start station latitude']\n",
    "    start_long = x['start station longitude']\n",
    "    end_lat = x['end station latitude']\n",
    "    end_long = x['end station longitude']\n",
    "    return haversine((start_lat,start_long),(end_lat,end_long))\n",
    "#### COMPLETE THE FUNCTION SO IT RETURNS THE DISTANCE FROM START TO END ####"
   ]
  },
  {
   "cell_type": "markdown",
   "metadata": {},
   "source": [
    "### <font color='red'>5.2) What does the following block do ? It may take a minute or two to run</font>"
   ]
  },
  {
   "cell_type": "markdown",
   "metadata": {},
   "source": [
    "### <font color='red'>5.3) Show <i>samples</i> of data, and see how the traveled distance has been added as a new feature in the dataset</font>"
   ]
  },
  {
   "cell_type": "markdown",
   "metadata": {},
   "source": [
    "### <font color='red'>5.4) Compute the average speed (in km/h) by dividing two dataframe columns</font>"
   ]
  },
  {
   "cell_type": "code",
   "execution_count": 58,
   "metadata": {
    "collapsed": false,
    "jupyter": {
     "outputs_hidden": false
    }
   },
   "outputs": [
    {
     "data": {
      "text/html": [
       "<div>\n",
       "<style scoped>\n",
       "    .dataframe tbody tr th:only-of-type {\n",
       "        vertical-align: middle;\n",
       "    }\n",
       "\n",
       "    .dataframe tbody tr th {\n",
       "        vertical-align: top;\n",
       "    }\n",
       "\n",
       "    .dataframe thead th {\n",
       "        text-align: right;\n",
       "    }\n",
       "</style>\n",
       "<table border=\"1\" class=\"dataframe\">\n",
       "  <thead>\n",
       "    <tr style=\"text-align: right;\">\n",
       "      <th></th>\n",
       "      <th>traveled_distance</th>\n",
       "      <th>tripduration</th>\n",
       "      <th>average_speed</th>\n",
       "    </tr>\n",
       "  </thead>\n",
       "  <tbody>\n",
       "    <tr>\n",
       "      <th>676035</th>\n",
       "      <td>1.105331</td>\n",
       "      <td>427</td>\n",
       "      <td>9.318952</td>\n",
       "    </tr>\n",
       "    <tr>\n",
       "      <th>505304</th>\n",
       "      <td>2.487707</td>\n",
       "      <td>888</td>\n",
       "      <td>10.085298</td>\n",
       "    </tr>\n",
       "    <tr>\n",
       "      <th>611980</th>\n",
       "      <td>2.406766</td>\n",
       "      <td>945</td>\n",
       "      <td>9.168632</td>\n",
       "    </tr>\n",
       "    <tr>\n",
       "      <th>188863</th>\n",
       "      <td>0.907567</td>\n",
       "      <td>360</td>\n",
       "      <td>9.075665</td>\n",
       "    </tr>\n",
       "    <tr>\n",
       "      <th>66500</th>\n",
       "      <td>2.166169</td>\n",
       "      <td>849</td>\n",
       "      <td>9.185167</td>\n",
       "    </tr>\n",
       "  </tbody>\n",
       "</table>\n",
       "</div>"
      ],
      "text/plain": [
       "        traveled_distance  tripduration  average_speed\n",
       "676035           1.105331           427       9.318952\n",
       "505304           2.487707           888      10.085298\n",
       "611980           2.406766           945       9.168632\n",
       "188863           0.907567           360       9.075665\n",
       "66500            2.166169           849       9.185167"
      ]
     },
     "execution_count": 58,
     "metadata": {},
     "output_type": "execute_result"
    }
   ],
   "source": [
    "data['average_speed'] = data.apply(lambda x: x['traveled_distance']/(x['tripduration']/3600), axis=1)\n",
    "col = ['traveled_distance', 'tripduration', 'average_speed']\n",
    "data[col].sample(5)\n",
    "#### COMPUTE THE AVERAGE SPEED HERE ####"
   ]
  },
  {
   "cell_type": "markdown",
   "metadata": {},
   "source": [
    "### <font color='red'>Run the following block to compute the mean speed on non-loopy trips </font>"
   ]
  },
  {
   "cell_type": "code",
   "execution_count": 59,
   "metadata": {},
   "outputs": [],
   "source": [
    "mean_speed = mean(data['average_speed'][data['average_speed'] != 0])"
   ]
  },
  {
   "cell_type": "markdown",
   "metadata": {},
   "source": [
    "### <font color='red'>5.5) Keep only trips for which the speed is under 50 km/h </font>"
   ]
  },
  {
   "cell_type": "code",
   "execution_count": 60,
   "metadata": {
    "collapsed": false,
    "jupyter": {
     "outputs_hidden": false
    }
   },
   "outputs": [],
   "source": [
    "data = data[data['average_speed'] < 50]\n",
    "    \n",
    "    #### ENTER YOUR FILTERING CONDITION HERE ####\n",
    "            #### WARNING : THIS WILL ERASE THE RAW DATA SO MAKE SURE IT IS CORRECT! ####\n",
    "            #### MAKE TESTS ON THE SLICING CONDITION BEFORE ERASING THE DATA ####]"
   ]
  },
  {
   "cell_type": "markdown",
   "metadata": {},
   "source": [
    "### <font color='red'>What does the following block do ?</font>"
   ]
  },
  {
   "cell_type": "code",
   "execution_count": 61,
   "metadata": {
    "collapsed": false,
    "jupyter": {
     "outputs_hidden": false
    }
   },
   "outputs": [],
   "source": [
    "data.loc[data['average_speed']==0,'average_speed'] = mean_speed"
   ]
  },
  {
   "cell_type": "markdown",
   "metadata": {},
   "source": [
    "### <font color='red'>5.6) Using <i>seaborn.distplot</i>, plot the distribution of speeds</font>"
   ]
  },
  {
   "cell_type": "code",
   "execution_count": 62,
   "metadata": {
    "collapsed": false,
    "jupyter": {
     "outputs_hidden": false
    }
   },
   "outputs": [
    {
     "data": {
      "image/png": "[encoded data removed]",
      "text/plain": [
       "<Figure size 1440x720 with 1 Axes>"
      ]
     },
     "metadata": {},
     "output_type": "display_data"
    }
   ],
   "source": [
    "plt.figure(figsize=(20,10))\n",
    "sns.distplot(data['average_speed'])\n",
    "#### PLOT THE DISTRIBUTION OF SPEEDS ####\n",
    "plt.show()"
   ]
  },
  {
   "cell_type": "markdown",
   "metadata": {},
   "source": [
    "### <font color='red'>5.7) Subsidiary question : plot the average speed vs. the total distance. What do you observe ? You can use the following function: </font>\n",
    "- seaborn.regplot()\n",
    "- data_sample = data.sample(1000) so as not to overload the graph"
   ]
  },
  {
   "cell_type": "code",
   "execution_count": 63,
   "metadata": {
    "collapsed": false,
    "jupyter": {
     "outputs_hidden": false
    }
   },
   "outputs": [
    {
     "data": {
      "image/png": "[encoded data removed]",
      "text/plain": [
       "<Figure size 1440x720 with 1 Axes>"
      ]
     },
     "metadata": {},
     "output_type": "display_data"
    }
   ],
   "source": [
    "data_sample = data.sample(1000)\n",
    "plt.figure(figsize=[20,10])\n",
    "sns.regplot(x = 'traveled_distance', y = 'average_speed', data=data_sample, color = 'gold')\n",
    "sns.set(rc={'axes.facecolor':'cornflowerblue'})#, 'figure.facecolor':'cornflowerblue'})\n",
    "plt.xlabel('A')\n",
    "plt.ylabel('B')\n",
    "plt.title('AB')\n",
    "plt.show()"
   ]
  },
  {
   "cell_type": "markdown",
   "metadata": {},
   "source": [
    "# Save dataset to csv file"
   ]
  },
  {
   "cell_type": "markdown",
   "metadata": {},
   "source": [
    "## 2) Exercise <font color='blue'> (10 min) </font>"
   ]
  },
  {
   "cell_type": "markdown",
   "metadata": {
    "jupyter": {
     "outputs_hidden": true
    }
   },
   "source": [
    "### <font color='red'>2.1) Any other interesting features that we need to create to enrich the data?</font>"
   ]
  }
 ],
 "metadata": {
  "kernelspec": {
   "display_name": "Python 3",
   "language": "python",
   "name": "python3"
  },
  "language_info": {
   "codemirror_mode": {
    "name": "ipython",
    "version": 3
   },
   "file_extension": ".py",
   "mimetype": "text/x-python",
   "name": "python",
   "nbconvert_exporter": "python",
   "pygments_lexer": "ipython3",
   "version": "3.7.4"
  }
 },
 "nbformat": 4,
 "nbformat_minor": 4
}
